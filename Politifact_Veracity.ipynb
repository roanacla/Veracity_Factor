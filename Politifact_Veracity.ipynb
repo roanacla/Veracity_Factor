{
  "nbformat": 4,
  "nbformat_minor": 0,
  "metadata": {
    "colab": {
      "name": "Copy of Politifact_Veracity.ipynb",
      "provenance": [],
      "collapsed_sections": [],
      "toc_visible": true
    },
    "kernelspec": {
      "name": "python3",
      "display_name": "Python 3"
    }
  },
  "cells": [
    {
      "cell_type": "markdown",
      "metadata": {
        "id": "aFrY3cBI5OEn"
      },
      "source": [
        "# Context Veracity using Politifact dataset\n"
      ]
    },
    {
      "cell_type": "markdown",
      "metadata": {
        "id": "n4xGi-EBNU2R"
      },
      "source": [
        "Fake news can take on many forms, including photoshopped images, fake user-generated content or spoofed accounts, network-based content designed to appeal to a particular organization or group, as well as knowledge-based stories that contain a scientific or reasonable explanation of unresolved issues, often resulting in the spread of false information."
      ]
    },
    {
      "cell_type": "markdown",
      "metadata": {
        "id": "h0cGbrIMxS7D"
      },
      "source": [
        "The factor chosen for Fake news detection is Context veracity. The dataset used is scrapped data from Politifact. Along with scraping the news addtional source information for the news is also scrapped.\n",
        "\n",
        "To determince context veracity we need to find evidence for the news topic."
      ]
    },
    {
      "cell_type": "markdown",
      "metadata": {
        "id": "ZR9NxfpV5OEp"
      },
      "source": [
        "### Import Libraries"
      ]
    },
    {
      "cell_type": "code",
      "metadata": {
        "id": "V_9Lnh7J5OEs",
        "colab": {
          "base_uri": "https://localhost:8080/"
        },
        "outputId": "c075f4ab-357d-4010-ffc3-1ee99e36af08"
      },
      "source": [
        "import pandas as pd\n",
        "import numpy as np\n",
        "import csv\n",
        "import gensim\n",
        "from sklearn.feature_extraction.text import TfidfVectorizer\n",
        "from sklearn.feature_extraction.text import CountVectorizer\n",
        "from sklearn.model_selection import train_test_split\n",
        "from sklearn.linear_model import LogisticRegression\n",
        "from sklearn.metrics import classification_report\n",
        "from sklearn.preprocessing import StandardScaler\n",
        "from nltk.stem.wordnet import WordNetLemmatizer\n",
        "from sklearn.model_selection import GridSearchCV\n",
        "from sklearn.metrics import confusion_matrix\n",
        "from nltk.stem.porter import PorterStemmer\n",
        "from sklearn import metrics\n",
        "from sklearn.metrics import roc_auc_score\n",
        "from sklearn.metrics import roc_curve\n",
        "from sklearn.pipeline import Pipeline\n",
        "from nltk.corpus import stopwords\n",
        "from string import punctuation\n",
        "import seaborn as sns\n",
        "import pandas as pd\n",
        "import numpy as np\n",
        "import nltk\n",
        "import re\n",
        "import nltk\n",
        "nltk.download('stopwords')\n",
        "nltk.download('averaged_perceptron_tagger')\n",
        "import matplotlib.pyplot as plt\n",
        "from scipy import sparse"
      ],
      "execution_count": null,
      "outputs": [
        {
          "output_type": "stream",
          "text": [
            "[nltk_data] Downloading package stopwords to /root/nltk_data...\n",
            "[nltk_data]   Unzipping corpora/stopwords.zip.\n",
            "[nltk_data] Downloading package averaged_perceptron_tagger to\n",
            "[nltk_data]     /root/nltk_data...\n",
            "[nltk_data]   Unzipping taggers/averaged_perceptron_tagger.zip.\n"
          ],
          "name": "stdout"
        }
      ]
    },
    {
      "cell_type": "code",
      "metadata": {
        "id": "jR90RCq-xnMm",
        "colab": {
          "base_uri": "https://localhost:8080/"
        },
        "outputId": "46b4b859-db2b-4f86-be43-bfa78907056d"
      },
      "source": [
        "from google.colab import drive\n",
        "drive.mount(\"/content/drive\")\n"
      ],
      "execution_count": null,
      "outputs": [
        {
          "output_type": "stream",
          "text": [
            "Mounted at /content/drive\n"
          ],
          "name": "stdout"
        }
      ]
    },
    {
      "cell_type": "markdown",
      "metadata": {
        "id": "Z4U9dxZFMGlS"
      },
      "source": [
        "##Import Posts data collected"
      ]
    },
    {
      "cell_type": "code",
      "metadata": {
        "id": "h1vjW3GQokIh",
        "colab": {
          "base_uri": "https://localhost:8080/"
        },
        "outputId": "6eb0b73f-e337-4e9e-f772-782ca034777e"
      },
      "source": [
        "df = pd.read_csv(\"NEWS.csv\",sep=',')\n",
        "\n",
        "df.info()"
      ],
      "execution_count": null,
      "outputs": [
        {
          "output_type": "stream",
          "text": [
            "<class 'pandas.core.frame.DataFrame'>\n",
            "RangeIndex: 1500 entries, 0 to 1499\n",
            "Data columns (total 6 columns):\n",
            " #   Column      Non-Null Count  Dtype \n",
            "---  ------      --------------  ----- \n",
            " 0   Unnamed: 0  1500 non-null   int64 \n",
            " 1   Statement   1500 non-null   object\n",
            " 2   Link        1500 non-null   object\n",
            " 3   Date        1500 non-null   object\n",
            " 4   Source      1500 non-null   object\n",
            " 5   Label       1500 non-null   object\n",
            "dtypes: int64(1), object(5)\n",
            "memory usage: 70.4+ KB\n"
          ],
          "name": "stdout"
        }
      ]
    },
    {
      "cell_type": "code",
      "metadata": {
        "id": "w71AvD1GpDUH",
        "colab": {
          "base_uri": "https://localhost:8080/"
        },
        "outputId": "20e45457-cf22-42e4-ad8b-8b08c2a5f254"
      },
      "source": [
        "df.info()"
      ],
      "execution_count": null,
      "outputs": [
        {
          "output_type": "stream",
          "text": [
            "<class 'pandas.core.frame.DataFrame'>\n",
            "RangeIndex: 1500 entries, 0 to 1499\n",
            "Data columns (total 6 columns):\n",
            " #   Column      Non-Null Count  Dtype \n",
            "---  ------      --------------  ----- \n",
            " 0   Unnamed: 0  1500 non-null   int64 \n",
            " 1   Statement   1500 non-null   object\n",
            " 2   Link        1500 non-null   object\n",
            " 3   Date        1500 non-null   object\n",
            " 4   Source      1500 non-null   object\n",
            " 5   Label       1500 non-null   object\n",
            "dtypes: int64(1), object(5)\n",
            "memory usage: 70.4+ KB\n"
          ],
          "name": "stdout"
        }
      ]
    },
    {
      "cell_type": "code",
      "metadata": {
        "id": "wj_SjZtIt0OB",
        "colab": {
          "base_uri": "https://localhost:8080/",
          "height": 306
        },
        "outputId": "da480207-508f-4836-bb76-c1bc9956c58d"
      },
      "source": [
        "df.head()"
      ],
      "execution_count": null,
      "outputs": [
        {
          "output_type": "execute_result",
          "data": {
            "text/html": [
              "<div>\n",
              "<style scoped>\n",
              "    .dataframe tbody tr th:only-of-type {\n",
              "        vertical-align: middle;\n",
              "    }\n",
              "\n",
              "    .dataframe tbody tr th {\n",
              "        vertical-align: top;\n",
              "    }\n",
              "\n",
              "    .dataframe thead th {\n",
              "        text-align: right;\n",
              "    }\n",
              "</style>\n",
              "<table border=\"1\" class=\"dataframe\">\n",
              "  <thead>\n",
              "    <tr style=\"text-align: right;\">\n",
              "      <th></th>\n",
              "      <th>Unnamed: 0</th>\n",
              "      <th>Statement</th>\n",
              "      <th>Link</th>\n",
              "      <th>Date</th>\n",
              "      <th>Source</th>\n",
              "      <th>Label</th>\n",
              "    </tr>\n",
              "  </thead>\n",
              "  <tbody>\n",
              "    <tr>\n",
              "      <th>0</th>\n",
              "      <td>0</td>\n",
              "      <td>Says “132,000 ballots in Fulton County, Ga., h...</td>\n",
              "      <td>https://www.politifact.com/factchecks/2020/nov...</td>\n",
              "      <td>mber 10, 2020</td>\n",
              "      <td>Viral image</td>\n",
              "      <td>false</td>\n",
              "    </tr>\n",
              "    <tr>\n",
              "      <th>1</th>\n",
              "      <td>1</td>\n",
              "      <td>Says there are “indications of grossly imprope...</td>\n",
              "      <td>https://www.politifact.com/factchecks/2020/nov...</td>\n",
              "      <td>mber 10, 2020</td>\n",
              "      <td>Dan Bishop</td>\n",
              "      <td>false</td>\n",
              "    </tr>\n",
              "    <tr>\n",
              "      <th>2</th>\n",
              "      <td>2</td>\n",
              "      <td>A “system glitch” in Wisconsin that “swapped v...</td>\n",
              "      <td>https://www.politifact.com/factchecks/2020/nov...</td>\n",
              "      <td>mber 10, 2020</td>\n",
              "      <td>Eric Trump</td>\n",
              "      <td>false</td>\n",
              "    </tr>\n",
              "    <tr>\n",
              "      <th>3</th>\n",
              "      <td>3</td>\n",
              "      <td>Overnight, election workers “found” 140,000 ma...</td>\n",
              "      <td>https://www.politifact.com/factchecks/2020/nov...</td>\n",
              "      <td>mber 10, 2020</td>\n",
              "      <td>Facebook posts</td>\n",
              "      <td>false</td>\n",
              "    </tr>\n",
              "    <tr>\n",
              "      <th>4</th>\n",
              "      <td>4</td>\n",
              "      <td>Says CNN video shows “HAMMER / Scorecard Voter...</td>\n",
              "      <td>https://www.politifact.com/factchecks/2020/nov...</td>\n",
              "      <td>mber 10, 2020</td>\n",
              "      <td>Pamela Geller</td>\n",
              "      <td>pants-fire</td>\n",
              "    </tr>\n",
              "  </tbody>\n",
              "</table>\n",
              "</div>"
            ],
            "text/plain": [
              "   Unnamed: 0  ...       Label\n",
              "0           0  ...       false\n",
              "1           1  ...       false\n",
              "2           2  ...       false\n",
              "3           3  ...       false\n",
              "4           4  ...  pants-fire\n",
              "\n",
              "[5 rows x 6 columns]"
            ]
          },
          "metadata": {
            "tags": []
          },
          "execution_count": 5
        }
      ]
    },
    {
      "cell_type": "code",
      "metadata": {
        "id": "MFUp9mFEwAuH",
        "colab": {
          "base_uri": "https://localhost:8080/"
        },
        "outputId": "fac0daff-8a07-4622-a580-e706c5c089e7"
      },
      "source": [
        "df.shape"
      ],
      "execution_count": null,
      "outputs": [
        {
          "output_type": "execute_result",
          "data": {
            "text/plain": [
              "(1500, 6)"
            ]
          },
          "metadata": {
            "tags": []
          },
          "execution_count": 6
        }
      ]
    },
    {
      "cell_type": "markdown",
      "metadata": {
        "id": "2uF0rwguMTT3"
      },
      "source": [
        "##Scrape Source Information for the Posts"
      ]
    },
    {
      "cell_type": "markdown",
      "metadata": {
        "id": "FynRLRI1MaZr"
      },
      "source": [
        "###Scraping in Batches"
      ]
    },
    {
      "cell_type": "code",
      "metadata": {
        "id": "FAu3nxoZw3T3",
        "colab": {
          "base_uri": "https://localhost:8080/"
        },
        "outputId": "737c0068-5a8a-4f2f-c429-2afbe5881a7b"
      },
      "source": [
        "import urllib.request,sys,time\n",
        "from bs4 import BeautifulSoup\n",
        "import requests\n",
        "import pandas as pd\n",
        "\n",
        "pagesToGet= 50\n",
        "#pagesToGet= 2\n",
        "upperframe=[]  \n",
        "for page in range(0,pagesToGet):\n",
        "    print('processing page :', page+1)\n",
        "    link = df['Link'][page]\n",
        "    url = str(link)+'#sources'\n",
        "    print(url)\n",
        "    \n",
        "    \n",
        "    #an exception might be thrown, so the code should be in a try-except block\n",
        "    try:\n",
        "        #use the browser to get the url. This is suspicious command that might blow up.\n",
        "        curr_page=requests.get(url)  \n",
        "        #print(page.text)                           # this might throw an exception if something goes wrong.\n",
        "    \n",
        "    except Exception as e:                                   # this describes what to do if an exception is thrown\n",
        "        error_type, error_obj, error_info = sys.exc_info()      # get the exception information\n",
        "        print ('ERROR FOR LINK:',url)                          #print the link that cause the problem\n",
        "        print (error_type, 'Line:', error_info.tb_lineno)     #print error info and line that threw the exception\n",
        "        continue                                              #ignore this page. Abandon this and go back.\n",
        "    time.sleep(2)   \n",
        "    soup=BeautifulSoup(curr_page.text,'html.parser')\n",
        "    frame=[]\n",
        "    #links=soup.find_all('li',attrs={'class':'o-listicle__item'})\n",
        "    \n",
        "    article_tag=soup.find('article',attrs={'class':'m-superbox__content'})\n",
        "    article_title=soup.find('div',attrs={'class':'m-statement__quote'})\n",
        "    #print(len(links))\n",
        "    filename=\"News_Sources1.csv\"\n",
        "    f=open(filename,\"w\", encoding = 'utf-8')\n",
        "    headers=\"Title, Author, Author_Link\\n\"\n",
        "    f.write(headers)\n",
        "    \n",
        "    \n",
        "\n",
        "    authors = article_tag.find_all(\"p\")\n",
        "    for author in authors:\n",
        "      Title = article_title.text.strip()\n",
        "      Author = author.text.strip()\n",
        "      if(author.find('a')):\n",
        "        Author_Link = author.find('a')['href'].strip()\n",
        "      else:\n",
        "        Author_Link = '0'\n",
        "      frame.append((Title,Author,Author_Link))\n",
        "      f.write(Title+\",\"+Author+\",\"+Author_Link+\"\\n\")\n",
        "    upperframe.extend(frame)\n",
        "f.close()\n"
      ],
      "execution_count": null,
      "outputs": [
        {
          "output_type": "stream",
          "text": [
            "processing page : 1\n",
            "https://www.politifact.com/factchecks/2020/nov/11/viral-image/no-132000-georgia-ballots-werent-likely-ineligable/#sources\n",
            "processing page : 2\n",
            "https://www.politifact.com/factchecks/2020/nov/10/dan-bishop/north-carolina-republican-falsely-accuses-election/#sources\n",
            "processing page : 3\n",
            "https://www.politifact.com/factchecks/2020/nov/10/eric-trump/no-biden-didnt-win-wisconsin-because-glitch-swappe/#sources\n",
            "processing page : 4\n",
            "https://www.politifact.com/factchecks/2020/nov/10/facebook-posts/election-workers-didnt-find-biden-votes-overnight-/#sources\n",
            "processing page : 5\n",
            "https://www.politifact.com/factchecks/2020/nov/10/pamela-geller/debunking-hammer-and-scorecard-election-fraud-cons/#sources\n",
            "processing page : 6\n",
            "https://www.politifact.com/factchecks/2020/nov/10/roger-polack/no-more-people-kenosha-county-did-not-die-covid-19/#sources\n",
            "processing page : 7\n",
            "https://www.politifact.com/factchecks/2020/nov/10/eric-trump/no-rock-county-did-not-have-glitch-stole-votes-tru/#sources\n",
            "processing page : 8\n",
            "https://www.politifact.com/factchecks/2020/nov/10/instagram-posts/no-michigans-government-website-doesnt-say-donald-/#sources\n",
            "processing page : 9\n",
            "https://www.politifact.com/factchecks/2020/nov/10/instagram-posts/fact-checking-social-media-posts-about-bidens-lead/#sources\n",
            "processing page : 10\n",
            "https://www.politifact.com/factchecks/2020/nov/10/facebook-posts/siri-glitch-sparks-misinformation-about-biden-25th/#sources\n",
            "processing page : 11\n",
            "https://www.politifact.com/factchecks/2020/nov/10/blog-posting/no-video-doesnt-show-election-worker-destroying-tr/#sources\n",
            "processing page : 12\n",
            "https://www.politifact.com/factchecks/2020/nov/10/viral-image/no-cnn-didnt-say-dick-cheney-will-be-foreign-polic/#sources\n",
            "processing page : 13\n",
            "https://www.politifact.com/factchecks/2020/nov/09/blog-posting/trump-supporters-falsely-tie-nancy-pelosi-broader-/#sources\n",
            "processing page : 14\n",
            "https://www.politifact.com/factchecks/2020/nov/09/blog-posting/no-joe-biden-hasnt-asked-mitt-romney-be-his-health/#sources\n",
            "processing page : 15\n",
            "https://www.politifact.com/factchecks/2020/nov/09/viral-image/no-washington-times-didnt-run-president-gore-cover/#sources\n",
            "processing page : 16\n",
            "https://www.politifact.com/factchecks/2020/nov/09/viral-image/no-new-york-post-didnt-run-youre-fired-cover/#sources\n",
            "processing page : 17\n",
            "https://www.politifact.com/factchecks/2020/nov/07/facebook-posts/no-fairfax-officials-virginia-didnt-give-100000-tr/#sources\n",
            "processing page : 18\n",
            "https://www.politifact.com/factchecks/2020/nov/07/facebook-posts/no-naacp-didnt-warn-about-white-nationalist-groups/#sources\n",
            "processing page : 19\n",
            "https://www.politifact.com/factchecks/2020/nov/07/facebook-posts/georgia-election-worker-falsely-accused-discarding/#sources\n",
            "processing page : 20\n",
            "https://www.politifact.com/factchecks/2020/nov/07/tweets/list-does-not-show-over-14000-dead-people-cast-bal/#sources\n",
            "processing page : 21\n",
            "https://www.politifact.com/factchecks/2020/nov/06/nevada-republican-party/fact-checking-republican-claim-illegal-votes-nevad/#sources\n",
            "processing page : 22\n",
            "https://www.politifact.com/factchecks/2020/nov/06/ted-cruz/ted-cruz-falsely-claims-philadelphia-counting-vote/#sources\n",
            "processing page : 23\n",
            "https://www.politifact.com/factchecks/2020/nov/06/instagram-posts/no-porn-site-logo-didnt-appear-cnn-broadcast/#sources\n",
            "processing page : 24\n",
            "https://www.politifact.com/factchecks/2020/nov/06/donald-trump/donald-trumps-pants-fire-claim-about-illegal-votes/#sources\n",
            "processing page : 25\n",
            "https://www.politifact.com/factchecks/2020/nov/06/kevin-mccarthy/claim-about-people-re-voting-iowa-2020-election-wr/#sources\n",
            "processing page : 26\n",
            "https://www.politifact.com/factchecks/2020/nov/06/facebook-posts/no-ballots-donald-trump-werent-discovered-georgia-/#sources\n",
            "processing page : 27\n",
            "https://www.politifact.com/factchecks/2020/nov/06/facebook-posts/no-pennsylvania-poll-workers-werent-caught-fraudul/#sources\n",
            "processing page : 28\n",
            "https://www.politifact.com/factchecks/2020/nov/06/facebook-posts/over-100-republican-challengers-monitored-absentee/#sources\n",
            "processing page : 29\n",
            "https://www.politifact.com/factchecks/2020/nov/06/dan-patrick/no-austin-not-one-most-dangerous-city-us-let-alone/#sources\n",
            "processing page : 30\n",
            "https://www.politifact.com/factchecks/2020/nov/06/facebook-posts/did-president-trump-issue-secret-watermarks-ballot/#sources\n",
            "processing page : 31\n",
            "https://www.politifact.com/factchecks/2020/nov/06/facebook-posts/no-arizona-troopers-didnt-discover-50k-ballots-tru/#sources\n",
            "processing page : 32\n",
            "https://www.politifact.com/factchecks/2020/nov/06/tiktok-posts/it-wasnt-cheating-calif-collected-ballots-after-st/#sources\n",
            "processing page : 33\n",
            "https://www.politifact.com/factchecks/2020/nov/06/facebook-posts/pennsylvania-poll-worker-was-copying-information-d/#sources\n",
            "processing page : 34\n",
            "https://www.politifact.com/factchecks/2020/nov/06/paula-jean-swearengin/does-wva-rank-near-last-education-drinking-water-c/#sources\n",
            "processing page : 35\n",
            "https://www.politifact.com/factchecks/2020/nov/05/tiktok-posts/social-media-posts-falsely-claim-40000-votes-jo-jo/#sources\n",
            "processing page : 36\n",
            "https://www.politifact.com/factchecks/2020/nov/05/facebook-posts/no-dead-voter-named-william-bradley-didnt-vote-det/#sources\n",
            "processing page : 37\n",
            "https://www.politifact.com/factchecks/2020/nov/05/blog-posting/no-evidence-ballots-were-smuggled-detroit-counting/#sources\n",
            "processing page : 38\n",
            "https://www.politifact.com/factchecks/2020/nov/05/blog-posting/claim-postal-service-failed-deliver-27-mail-ballot/#sources\n",
            "processing page : 39\n",
            "https://www.politifact.com/factchecks/2020/nov/05/social-media/no-north-carolinas-secretary-state-doesnt-control-/#sources\n",
            "processing page : 40\n",
            "https://www.politifact.com/factchecks/2020/nov/05/facebook-posts/milwaukee-wards-did-not-have-more-votes-president-/#sources\n",
            "processing page : 41\n",
            "https://www.politifact.com/factchecks/2020/nov/05/facebook-posts/no-thousands-military-ballots-were-not-found-trash/#sources\n",
            "processing page : 42\n",
            "https://www.politifact.com/factchecks/2020/nov/05/viral-image/no-more-mail-ballots-werent-counted-pennsylvania-c/#sources\n",
            "processing page : 43\n",
            "https://www.politifact.com/factchecks/2020/nov/05/facebook-posts/video-ballot-stuffing-filmed-russia-not-flint-mich/#sources\n",
            "processing page : 44\n",
            "https://www.politifact.com/factchecks/2020/nov/05/facebook-posts/despite-sharpiegate-no-evidence-plot-use-pens-canc/#sources\n",
            "processing page : 45\n",
            "https://www.politifact.com/factchecks/2020/nov/05/facebook-posts/dead-voters-detroits-voter-rolls-including-person-/#sources\n",
            "processing page : 46\n",
            "https://www.politifact.com/factchecks/2020/nov/05/facebook-posts/biden-netted-more-votes-michigan-trump/#sources\n",
            "processing page : 47\n",
            "https://www.politifact.com/factchecks/2020/nov/05/viral-image/no-michigan-ballots-counted-after-election-day-are/#sources\n",
            "processing page : 48\n",
            "https://www.politifact.com/factchecks/2020/nov/05/donald-trump-jr/no-wisconsin-voter-turnout-did-not-jump-67-2016-89/#sources\n",
            "processing page : 49\n",
            "https://www.politifact.com/factchecks/2020/nov/05/facebook-posts/no-wisconsin-did-not-take-break-counting-election-/#sources\n",
            "processing page : 50\n",
            "https://www.politifact.com/factchecks/2020/nov/05/tucker-carlson/tucker-carlsons-false-claim-elites-washington-igno/#sources\n"
          ],
          "name": "stdout"
        }
      ]
    },
    {
      "cell_type": "code",
      "metadata": {
        "id": "PK5CQi5G2liG",
        "colab": {
          "base_uri": "https://localhost:8080/",
          "height": 289
        },
        "outputId": "cf779733-124a-4826-c079-b2cd7726b000"
      },
      "source": [
        "data1=pd.DataFrame(upperframe, columns=['Title','Author','Author_Link'])\n",
        "data1.to_csv('News_Sources1.csv')\n",
        "data1.head()"
      ],
      "execution_count": null,
      "outputs": [
        {
          "output_type": "execute_result",
          "data": {
            "text/html": [
              "<div>\n",
              "<style scoped>\n",
              "    .dataframe tbody tr th:only-of-type {\n",
              "        vertical-align: middle;\n",
              "    }\n",
              "\n",
              "    .dataframe tbody tr th {\n",
              "        vertical-align: top;\n",
              "    }\n",
              "\n",
              "    .dataframe thead th {\n",
              "        text-align: right;\n",
              "    }\n",
              "</style>\n",
              "<table border=\"1\" class=\"dataframe\">\n",
              "  <thead>\n",
              "    <tr style=\"text-align: right;\">\n",
              "      <th></th>\n",
              "      <th>Title</th>\n",
              "      <th>Author</th>\n",
              "      <th>Author_Link</th>\n",
              "    </tr>\n",
              "  </thead>\n",
              "  <tbody>\n",
              "    <tr>\n",
              "      <th>0</th>\n",
              "      <td>Says “132,000 ballots in Fulton County, Ga., h...</td>\n",
              "      <td>CNN, \"Georgia GOP lieutenant governor says ‘no...</td>\n",
              "      <td>https://edition.cnn.com/2020/11/09/politics/ge...</td>\n",
              "    </tr>\n",
              "    <tr>\n",
              "      <th>1</th>\n",
              "      <td>Says “132,000 ballots in Fulton County, Ga., h...</td>\n",
              "      <td>Facebook post, Nov. 8, 2020</td>\n",
              "      <td>https://www.facebook.com/TheHipHopPatriot/post...</td>\n",
              "    </tr>\n",
              "    <tr>\n",
              "      <th>2</th>\n",
              "      <td>Says “132,000 ballots in Fulton County, Ga., h...</td>\n",
              "      <td>Gateway Pundit, \"132,000 ballots in Fulton Cou...</td>\n",
              "      <td>https://www.thegatewaypundit.com/2020/11/huge-...</td>\n",
              "    </tr>\n",
              "    <tr>\n",
              "      <th>3</th>\n",
              "      <td>Says “132,000 ballots in Fulton County, Ga., h...</td>\n",
              "      <td>LinkedIn profile, accessed Nov. 10, 2020</td>\n",
              "      <td>https://www.linkedin.com/in/richardbaris</td>\n",
              "    </tr>\n",
              "    <tr>\n",
              "      <th>4</th>\n",
              "      <td>Says “132,000 ballots in Fulton County, Ga., h...</td>\n",
              "      <td>Red State Nation, \"Allegedly there are 132k ch...</td>\n",
              "      <td>https://redstatenation.com/allegedly-there-are...</td>\n",
              "    </tr>\n",
              "  </tbody>\n",
              "</table>\n",
              "</div>"
            ],
            "text/plain": [
              "                                               Title  ...                                        Author_Link\n",
              "0  Says “132,000 ballots in Fulton County, Ga., h...  ...  https://edition.cnn.com/2020/11/09/politics/ge...\n",
              "1  Says “132,000 ballots in Fulton County, Ga., h...  ...  https://www.facebook.com/TheHipHopPatriot/post...\n",
              "2  Says “132,000 ballots in Fulton County, Ga., h...  ...  https://www.thegatewaypundit.com/2020/11/huge-...\n",
              "3  Says “132,000 ballots in Fulton County, Ga., h...  ...           https://www.linkedin.com/in/richardbaris\n",
              "4  Says “132,000 ballots in Fulton County, Ga., h...  ...  https://redstatenation.com/allegedly-there-are...\n",
              "\n",
              "[5 rows x 3 columns]"
            ]
          },
          "metadata": {
            "tags": []
          },
          "execution_count": 8
        }
      ]
    },
    {
      "cell_type": "code",
      "metadata": {
        "id": "XqGgjiVd6Etl",
        "colab": {
          "base_uri": "https://localhost:8080/"
        },
        "outputId": "2854ea3e-1fbd-4e8c-f049-cad47b06ee44"
      },
      "source": [
        "import urllib.request,sys,time\n",
        "from bs4 import BeautifulSoup\n",
        "import requests\n",
        "import pandas as pd\n",
        "\n",
        "pagesToGet= 100\n",
        "#pagesToGet= 2\n",
        "upperframe=[]  \n",
        "for page in range(50,pagesToGet):\n",
        "    print('processing page :', page+1)\n",
        "    link = df['Link'][page]\n",
        "    url = str(link)+'#sources'\n",
        "    print(url)\n",
        "    \n",
        "    \n",
        "    #an exception might be thrown, so the code should be in a try-except block\n",
        "    try:\n",
        "        #use the browser to get the url. This is suspicious command that might blow up.\n",
        "        curr_page=requests.get(url)  \n",
        "        #print(page.text)                           # this might throw an exception if something goes wrong.\n",
        "    \n",
        "    except Exception as e:                                   # this describes what to do if an exception is thrown\n",
        "        error_type, error_obj, error_info = sys.exc_info()      # get the exception information\n",
        "        print ('ERROR FOR LINK:',url)                          #print the link that cause the problem\n",
        "        print (error_type, 'Line:', error_info.tb_lineno)     #print error info and line that threw the exception\n",
        "        continue                                              #ignore this page. Abandon this and go back.\n",
        "    time.sleep(2)   \n",
        "    soup=BeautifulSoup(curr_page.text,'html.parser')\n",
        "    frame=[]\n",
        "    #links=soup.find_all('li',attrs={'class':'o-listicle__item'})\n",
        "    \n",
        "    article_tag=soup.find('article',attrs={'class':'m-superbox__content'})\n",
        "    article_title=soup.find('div',attrs={'class':'m-statement__quote'})\n",
        "    #print(len(links))\n",
        "    filename=\"News_Sources2.csv\"\n",
        "    f=open(filename,\"w\", encoding = 'utf-8')\n",
        "    headers=\"Title, Author, Author_Link\\n\"\n",
        "    f.write(headers)\n",
        "    \n",
        "    \n",
        "\n",
        "    authors = article_tag.find_all(\"p\")\n",
        "    for author in authors:\n",
        "      Title = article_title.text.strip()\n",
        "      Author = author.text.strip()\n",
        "      if(author.find('a')):\n",
        "        Author_Link = author.find('a')['href'].strip()\n",
        "      else:\n",
        "        Author_Link = '0'\n",
        "      frame.append((Title,Author,Author_Link))\n",
        "      f.write(Title+\",\"+Author+\",\"+Author_Link+\"\\n\")\n",
        "    upperframe.extend(frame)\n",
        "f.close()\n"
      ],
      "execution_count": null,
      "outputs": [
        {
          "output_type": "stream",
          "text": [
            "processing page : 51\n",
            "https://www.politifact.com/factchecks/2020/nov/05/viral-image/north-carolina-and-wisconsin-did-not-have-more-vot/#sources\n",
            "processing page : 52\n",
            "https://www.politifact.com/factchecks/2020/nov/04/eric-trump/eric-trump-retweets-video-falsely-claiming-man-bur/#sources\n",
            "processing page : 53\n",
            "https://www.politifact.com/factchecks/2020/nov/04/donald-trump/no-president-trump-ballot-dumps-key-states-were-no/#sources\n",
            "processing page : 54\n",
            "https://www.politifact.com/factchecks/2020/nov/04/facebook-posts/fact-checking-conspiracy-theory-about-ballot-count/#sources\n",
            "processing page : 55\n",
            "https://www.politifact.com/factchecks/2020/nov/04/tweets/viral-tweet-spreads-false-information-about-mail-b/#sources\n",
            "processing page : 56\n",
            "https://www.politifact.com/factchecks/2020/nov/04/facebook-posts/no-nevada-did-not-stop-counting-ballots/#sources\n",
            "processing page : 57\n",
            "https://www.politifact.com/factchecks/2020/nov/04/viral-image/no-these-fivethirtyeight-graphs-dont-prove-voter-f/#sources\n",
            "processing page : 58\n",
            "https://www.politifact.com/factchecks/2020/nov/04/facebook-posts/social-media-post-falsely-claims-wisconsin-found-1/#sources\n",
            "processing page : 59\n",
            "https://www.politifact.com/factchecks/2020/nov/04/facebook-posts/theres-nothing-mysterious-about-californias-mail-v/#sources\n",
            "processing page : 60\n",
            "https://www.politifact.com/factchecks/2020/nov/04/tweets/no-biden-did-not-receive-thousands-mysteriously-su/#sources\n",
            "processing page : 61\n",
            "https://www.politifact.com/factchecks/2020/nov/04/facebook-posts/battleground-states-did-not-stop-counting-votes-el/#sources\n",
            "processing page : 62\n",
            "https://www.politifact.com/factchecks/2020/nov/04/facebook-posts/photo-concrete-wall-front-white-house-doctored/#sources\n",
            "processing page : 63\n",
            "https://www.politifact.com/factchecks/2020/nov/04/viral-image/no-whitmer-didnt-say-she-wouldnt-certify-election-/#sources\n",
            "processing page : 64\n",
            "https://www.politifact.com/factchecks/2020/nov/04/tweets/no-wisconsin-doesnt-have-more-ballots-cast-registe/#sources\n",
            "processing page : 65\n",
            "https://www.politifact.com/factchecks/2020/nov/04/facebook-posts/voting-machines-dont-read-ballots-filled-sharpies-/#sources\n",
            "processing page : 66\n",
            "https://www.politifact.com/factchecks/2020/nov/04/sean-hannity/sean-hannity-falsely-suggests-ilhan-omar-encourage/#sources\n",
            "processing page : 67\n",
            "https://www.politifact.com/factchecks/2020/nov/04/facebook-posts/no-trump-hasnt-won-election-and-neither-has-biden/#sources\n",
            "processing page : 68\n",
            "https://www.politifact.com/factchecks/2020/nov/04/facebook-posts/fact-checking-misleading-photo-caption-about-phila/#sources\n",
            "processing page : 69\n",
            "https://www.politifact.com/factchecks/2020/nov/04/donald-trump/trump-falsely-and-prematurely-claims-2020-presiden/#sources\n",
            "processing page : 70\n",
            "https://www.politifact.com/factchecks/2020/nov/04/tweets/no-sign-outside-pennsylvania-poll-isnt-voting-scam/#sources\n",
            "processing page : 71\n",
            "https://www.politifact.com/factchecks/2020/nov/03/facebook-posts/unfounded-election-day-social-media-posts-warn-mas/#sources\n",
            "processing page : 72\n",
            "https://www.politifact.com/factchecks/2020/nov/03/instagram-posts/nonpartisan-reality-national-guard-troops-deployed/#sources\n",
            "processing page : 73\n",
            "https://www.politifact.com/factchecks/2020/nov/03/tweets/fact-checking-claim-about-poll-watchers-turned-awa/#sources\n",
            "processing page : 74\n",
            "https://www.politifact.com/factchecks/2020/nov/03/tweets/no-ballots-trump-werent-thrown-out-poll-worker-pen/#sources\n",
            "processing page : 75\n",
            "https://www.politifact.com/factchecks/2020/nov/03/viral-image/no-bricks-denver-arent-being-staged-riots/#sources\n",
            "processing page : 76\n",
            "https://www.politifact.com/factchecks/2020/nov/03/facebook-posts/no-trump-supporters-arent-blocking-access-voting-s/#sources\n",
            "processing page : 77\n",
            "https://www.politifact.com/factchecks/2020/nov/03/facebook-posts/police-say-bricks-detroit-are-construction-project/#sources\n",
            "processing page : 78\n",
            "https://www.politifact.com/factchecks/2020/nov/03/tiktok-posts/video-misrepresents-bidens-speech-michigan/#sources\n",
            "processing page : 79\n",
            "https://www.politifact.com/factchecks/2020/nov/03/facebook-posts/kohls-has-t-shirt-line-promotes-racial-equality-it/#sources\n",
            "processing page : 80\n",
            "https://www.politifact.com/factchecks/2020/nov/03/blog-posting/flyer-encouraging-antifa-disguise-themselves-trump/#sources\n",
            "processing page : 81\n",
            "https://www.politifact.com/factchecks/2020/nov/03/viral-image/facebook-post-exaggerates-isolated-voting-hiccup-a/#sources\n",
            "processing page : 82\n",
            "https://www.politifact.com/factchecks/2020/nov/02/facebook-posts/pennsylvania-residents-under-covid-19-quarantine-c/#sources\n",
            "processing page : 83\n",
            "https://www.politifact.com/factchecks/2020/nov/02/tiktok-posts/video-gives-misleading-impression-mass-voting-rule/#sources\n",
            "processing page : 84\n",
            "https://www.politifact.com/factchecks/2020/nov/02/robyn-vining/voters-choosing-more-party-personality-trump-excep/#sources\n",
            "processing page : 85\n",
            "https://www.politifact.com/factchecks/2020/nov/02/facebook-posts/trumps-butler-pa-rally-drew-thousands-supporters-t/#sources\n",
            "processing page : 86\n",
            "https://www.politifact.com/factchecks/2020/nov/02/facebook-posts/no-nancy-pelosis-son-didnt-serve-burisma-board/#sources\n",
            "processing page : 87\n",
            "https://www.politifact.com/factchecks/2020/nov/02/facebook-posts/no-evidence-kamala-harris-husband-represents-chine/#sources\n",
            "processing page : 88\n",
            "https://www.politifact.com/factchecks/2020/nov/02/facebook-posts/democratic-partys-2020-platform-includes-mention-g/#sources\n",
            "processing page : 89\n",
            "https://www.politifact.com/factchecks/2020/nov/02/tweets/photo-biden-plane-without-face-mask-pandemic/#sources\n",
            "processing page : 90\n",
            "https://www.politifact.com/factchecks/2020/nov/02/donald-trump/fact-checking-trumps-claim-his-supporters-were-pro/#sources\n",
            "processing page : 91\n",
            "https://www.politifact.com/factchecks/2020/nov/01/donald-trump/trumps-misleading-attack-bidens-health-care-plan/#sources\n",
            "processing page : 92\n",
            "https://www.politifact.com/factchecks/2020/nov/01/jason-miller/trump-spokesman-jason-miller-paints-dubious-pictur/#sources\n",
            "processing page : 93\n",
            "https://www.politifact.com/factchecks/2020/nov/01/facebook-posts/video-clip-joe-biden-saying-hello-minnesota-was-do/#sources\n",
            "processing page : 94\n",
            "https://www.politifact.com/factchecks/2020/nov/01/sam-brown-petsonk/how-many-west-virginians-would-lose-coverage-if-la/#sources\n",
            "processing page : 95\n",
            "https://www.politifact.com/factchecks/2020/nov/01/donald-trump/no-biden-did-not-call-black-youth-super-predators/#sources\n",
            "processing page : 96\n",
            "https://www.politifact.com/factchecks/2020/nov/01/tweets/no-evidence-queens-voters-received-pre-marked-ball/#sources\n",
            "processing page : 97\n",
            "https://www.politifact.com/factchecks/2020/nov/01/jb-pritzker/illinois-nation-leading-funding-census-outreach/#sources\n",
            "processing page : 98\n",
            "https://www.politifact.com/factchecks/2020/nov/01/donald-trump/donald-trumps-false-claim-doctors-inflate-covid-19/#sources\n",
            "processing page : 99\n",
            "https://www.politifact.com/factchecks/2020/nov/01/tiktok-posts/no-joe-bidens-brother-didnt-build-cages-along-us-m/#sources\n",
            "processing page : 100\n",
            "https://www.politifact.com/factchecks/2020/nov/01/instagram-posts/green-new-deal-would-not-require-99-homes-be-torn-/#sources\n"
          ],
          "name": "stdout"
        }
      ]
    },
    {
      "cell_type": "code",
      "metadata": {
        "id": "yGC7VfYj6WS3",
        "colab": {
          "base_uri": "https://localhost:8080/",
          "height": 204
        },
        "outputId": "f2f665bf-119a-442d-ef4d-f7d06036e18f"
      },
      "source": [
        "data2=pd.DataFrame(upperframe, columns=['Title','Author','Author_Link'])\n",
        "data2.to_csv('News_Sources2.csv')\n",
        "data2.head()"
      ],
      "execution_count": null,
      "outputs": [
        {
          "output_type": "execute_result",
          "data": {
            "text/html": [
              "<div>\n",
              "<style scoped>\n",
              "    .dataframe tbody tr th:only-of-type {\n",
              "        vertical-align: middle;\n",
              "    }\n",
              "\n",
              "    .dataframe tbody tr th {\n",
              "        vertical-align: top;\n",
              "    }\n",
              "\n",
              "    .dataframe thead th {\n",
              "        text-align: right;\n",
              "    }\n",
              "</style>\n",
              "<table border=\"1\" class=\"dataframe\">\n",
              "  <thead>\n",
              "    <tr style=\"text-align: right;\">\n",
              "      <th></th>\n",
              "      <th>Title</th>\n",
              "      <th>Author</th>\n",
              "      <th>Author_Link</th>\n",
              "    </tr>\n",
              "  </thead>\n",
              "  <tbody>\n",
              "    <tr>\n",
              "      <th>0</th>\n",
              "      <td>Asks, “How is this possible?” with a chart sho...</td>\n",
              "      <td>Ballotpedia, \"Voter registration statistics, 2...</td>\n",
              "      <td>https://ballotpedia.org/Voter_registration</td>\n",
              "    </tr>\n",
              "    <tr>\n",
              "      <th>1</th>\n",
              "      <td>Asks, “How is this possible?” with a chart sho...</td>\n",
              "      <td>Facebook post, Nov. 4, 2020</td>\n",
              "      <td>https://www.facebook.com/aaron.houghton.9216/p...</td>\n",
              "    </tr>\n",
              "    <tr>\n",
              "      <th>2</th>\n",
              "      <td>Asks, “How is this possible?” with a chart sho...</td>\n",
              "      <td>Milwaukee Journal Sentinel, \"Fact check: Wisco...</td>\n",
              "      <td>https://www.jsonline.com/story/news/politics/e...</td>\n",
              "    </tr>\n",
              "    <tr>\n",
              "      <th>3</th>\n",
              "      <td>Asks, “How is this possible?” with a chart sho...</td>\n",
              "      <td>North Carolina State Board of Elections, \"Vote...</td>\n",
              "      <td>https://www.ncsbe.gov/results-data/election-re...</td>\n",
              "    </tr>\n",
              "    <tr>\n",
              "      <th>4</th>\n",
              "      <td>Asks, “How is this possible?” with a chart sho...</td>\n",
              "      <td>PolitiFact, \"No, Wisconsin doesn’t have more b...</td>\n",
              "      <td>https://www.politifact.com/factchecks/2020/nov...</td>\n",
              "    </tr>\n",
              "  </tbody>\n",
              "</table>\n",
              "</div>"
            ],
            "text/plain": [
              "                                               Title  ...                                        Author_Link\n",
              "0  Asks, “How is this possible?” with a chart sho...  ...         https://ballotpedia.org/Voter_registration\n",
              "1  Asks, “How is this possible?” with a chart sho...  ...  https://www.facebook.com/aaron.houghton.9216/p...\n",
              "2  Asks, “How is this possible?” with a chart sho...  ...  https://www.jsonline.com/story/news/politics/e...\n",
              "3  Asks, “How is this possible?” with a chart sho...  ...  https://www.ncsbe.gov/results-data/election-re...\n",
              "4  Asks, “How is this possible?” with a chart sho...  ...  https://www.politifact.com/factchecks/2020/nov...\n",
              "\n",
              "[5 rows x 3 columns]"
            ]
          },
          "metadata": {
            "tags": []
          },
          "execution_count": 10
        }
      ]
    },
    {
      "cell_type": "code",
      "metadata": {
        "id": "sMHM6j7b9IYW",
        "colab": {
          "base_uri": "https://localhost:8080/"
        },
        "outputId": "50dcfc78-6464-4d40-c433-13f93fedf7a0"
      },
      "source": [
        "import urllib.request,sys,time\n",
        "from bs4 import BeautifulSoup\n",
        "import requests\n",
        "import pandas as pd\n",
        "\n",
        "pagesToGet= 150\n",
        "#pagesToGet= 2\n",
        "upperframe=[]  \n",
        "for page in range(100,pagesToGet):\n",
        "    print('processing page :', page+1)\n",
        "    link = df['Link'][page]\n",
        "    url = str(link)+'#sources'\n",
        "    print(url)\n",
        "    \n",
        "    \n",
        "    #an exception might be thrown, so the code should be in a try-except block\n",
        "    try:\n",
        "        #use the browser to get the url. This is suspicious command that might blow up.\n",
        "        curr_page=requests.get(url)  \n",
        "        #print(page.text)                           # this might throw an exception if something goes wrong.\n",
        "    \n",
        "    except Exception as e:                                   # this describes what to do if an exception is thrown\n",
        "        error_type, error_obj, error_info = sys.exc_info()      # get the exception information\n",
        "        print ('ERROR FOR LINK:',url)                          #print the link that cause the problem\n",
        "        print (error_type, 'Line:', error_info.tb_lineno)     #print error info and line that threw the exception\n",
        "        continue                                              #ignore this page. Abandon this and go back.\n",
        "    time.sleep(2)   \n",
        "    soup=BeautifulSoup(curr_page.text,'html.parser')\n",
        "    frame=[]\n",
        "    #links=soup.find_all('li',attrs={'class':'o-listicle__item'})\n",
        "    \n",
        "    article_tag=soup.find('article',attrs={'class':'m-superbox__content'})\n",
        "    article_title=soup.find('div',attrs={'class':'m-statement__quote'})\n",
        "    #print(len(links))\n",
        "    filename=\"News_Sources3.csv\"\n",
        "    f=open(filename,\"w\", encoding = 'utf-8')\n",
        "    headers=\"Title, Author, Author_Link\\n\"\n",
        "    f.write(headers)\n",
        "    \n",
        "    \n",
        "\n",
        "    authors = article_tag.find_all(\"p\")\n",
        "    for author in authors:\n",
        "      Title = article_title.text.strip()\n",
        "      Author = author.text.strip()\n",
        "      if(author.find('a')):\n",
        "        Author_Link = author.find('a')['href'].strip()\n",
        "      else:\n",
        "        Author_Link = '0'\n",
        "      frame.append((Title,Author,Author_Link))\n",
        "      f.write(Title+\",\"+Author+\",\"+Author_Link+\"\\n\")\n",
        "    upperframe.extend(frame)\n",
        "f.close()"
      ],
      "execution_count": null,
      "outputs": [
        {
          "output_type": "stream",
          "text": [
            "processing page : 101\n",
            "https://www.politifact.com/factchecks/2020/oct/31/joe-biden/yes-joe-biden-has-released-22-years-tax-returns-on/#sources\n",
            "processing page : 102\n",
            "https://www.politifact.com/factchecks/2020/oct/31/viral-image/no-photo-doesnt-show-intoxicated-kamala-harris/#sources\n",
            "processing page : 103\n",
            "https://www.politifact.com/factchecks/2020/oct/31/facebook-posts/toddler-photo-wasnt-found-lost-philadelphia-he-was/#sources\n",
            "processing page : 104\n",
            "https://www.politifact.com/factchecks/2020/oct/31/blog-posting/no-joe-biden-didnt-say-america-dead/#sources\n",
            "processing page : 105\n",
            "https://www.politifact.com/factchecks/2020/oct/31/viral-image/fake-sean-connery-letter-steve-jobs-spreads-wake-h/#sources\n",
            "processing page : 106\n",
            "https://www.politifact.com/factchecks/2020/oct/31/viral-image/no-coronavirus-pandemic-wont-end-day-after-electio/#sources\n",
            "processing page : 107\n",
            "https://www.politifact.com/factchecks/2020/oct/31/theresa-greenfield/fact-check-farm-bankruptcies-highest-8-years/#sources\n",
            "processing page : 108\n",
            "https://www.politifact.com/factchecks/2020/oct/31/facebook-posts/no-michelle-obama-not-transgender-woman/#sources\n",
            "processing page : 109\n",
            "https://www.politifact.com/factchecks/2020/oct/31/facebook-posts/no-evidence-people-are-trying-lower-age-consent-4/#sources\n",
            "processing page : 110\n",
            "https://www.politifact.com/factchecks/2020/oct/31/theresa-greenfield/greenfield-attacks-ernst-aca-lawsuit-position-refl/#sources\n",
            "processing page : 111\n",
            "https://www.politifact.com/factchecks/2020/oct/31/raphael-warnock/fact-checking-raphael-warnocks-claim-georgia-sen-k/#sources\n",
            "processing page : 112\n",
            "https://www.politifact.com/factchecks/2020/oct/30/democratic-congressional-campaign-committee/follow-money-rep-wagner-has-received-millions/#sources\n",
            "processing page : 113\n",
            "https://www.politifact.com/factchecks/2020/oct/30/nicole-galloway/does-gov-parson-actually-oppose-protections-preexi/#sources\n",
            "processing page : 114\n",
            "https://www.politifact.com/factchecks/2020/oct/30/facebook-posts/false-post-inflates-number-rejected-mail-ballots-m/#sources\n",
            "processing page : 115\n",
            "https://www.politifact.com/factchecks/2020/oct/30/donald-trump-jr/donald-trump-jr-claims-covid-19-deaths-almost-noth/#sources\n",
            "processing page : 116\n",
            "https://www.politifact.com/factchecks/2020/oct/30/chris-jacobs/pre-existing-conditions-jacobs-claim-needs-context/#sources\n",
            "processing page : 117\n",
            "https://www.politifact.com/factchecks/2020/oct/30/donald-trump/donald-trump-says-gdp-growth-was-historic-beat-pre/#sources\n",
            "processing page : 118\n",
            "https://www.politifact.com/factchecks/2020/oct/30/joe-biden/does-donald-trump-think-15-hour-too-much-essential/#sources\n",
            "processing page : 119\n",
            "https://www.politifact.com/factchecks/2020/oct/30/viral-image/no-photo-doesnt-show-joe-and-hunter-biden-burisma-/#sources\n",
            "processing page : 120\n",
            "https://www.politifact.com/factchecks/2020/oct/30/facebook-posts/no-youtube-didnt-remove-tucker-carlsons-interview-/#sources\n",
            "processing page : 121\n",
            "https://www.politifact.com/factchecks/2020/oct/30/facebook-posts/no-jeff-foxworthy-didnt-write-fence-test/#sources\n",
            "processing page : 122\n",
            "https://www.politifact.com/factchecks/2020/oct/30/viral-image/biden-called-trump-supporters-disrupting-his-rally/#sources\n",
            "processing page : 123\n",
            "https://www.politifact.com/factchecks/2020/oct/30/ted-cruz/federal-debt-was-frequent-talking-point-during-tru/#sources\n",
            "processing page : 124\n",
            "https://www.politifact.com/factchecks/2020/oct/30/joe-biden/biden-misstates-price-his-free-public-college-plan/#sources\n",
            "processing page : 125\n",
            "https://www.politifact.com/factchecks/2020/oct/30/abigail-spanberger/are-majority-minimum-wage-earners-mothers-spanberg/#sources\n",
            "processing page : 126\n",
            "https://www.politifact.com/factchecks/2020/oct/30/roy-cooper/cooper-right-about-forest-education-board-attendan/#sources\n",
            "processing page : 127\n",
            "https://www.politifact.com/factchecks/2020/oct/29/justin-clark/fact-checking-trump-campaign-tweet-pa-mail-ballots/#sources\n",
            "processing page : 128\n",
            "https://www.politifact.com/factchecks/2020/oct/29/youtube-videos/detroit-tv-station-accidentally-airs-fake-election/#sources\n",
            "processing page : 129\n",
            "https://www.politifact.com/factchecks/2020/oct/29/donald-trump/trump-campaign-uses-cherry-picked-video-attack-bid/#sources\n",
            "processing page : 130\n",
            "https://www.politifact.com/factchecks/2020/oct/29/jill-schupp/did-ann-wagner-vote-repeal-pre-existing-conditions/#sources\n",
            "processing page : 131\n",
            "https://www.politifact.com/factchecks/2020/oct/29/joni-ernst/joni-ernst-said-she-stood-dreamers-hasnt-always-su/#sources\n",
            "processing page : 132\n",
            "https://www.politifact.com/factchecks/2020/oct/29/facebook-posts/kamala-harris-has-condemned-looting/#sources\n",
            "processing page : 133\n",
            "https://www.politifact.com/factchecks/2020/oct/29/viral-image/no-jill-biden-didnt-say-about-hunter-bidens-laptop/#sources\n",
            "processing page : 134\n",
            "https://www.politifact.com/factchecks/2020/oct/29/robyn-vining/yes-because-gerrymandering-only-one-republican-ass/#sources\n",
            "processing page : 135\n",
            "https://www.politifact.com/factchecks/2020/oct/29/cheri-toalson-reisch/toalson-reisch-about-columbia-schools-test-scores/#sources\n",
            "processing page : 136\n",
            "https://www.politifact.com/factchecks/2020/oct/29/facebook-posts/yes-biden-seeks-eliminate-policy-reduces-inheritan/#sources\n",
            "processing page : 137\n",
            "https://www.politifact.com/factchecks/2020/oct/28/donald-trump/donald-trump-wrong-winner-has-be-announced-electio/#sources\n",
            "processing page : 138\n",
            "https://www.politifact.com/factchecks/2020/oct/28/facebook-posts/no-harris-did-not-break-ohio-law-election-site-vis/#sources\n",
            "processing page : 139\n",
            "https://www.politifact.com/factchecks/2020/oct/28/facebook-posts/10000-obamacare-penalty-doubtful/#sources\n",
            "processing page : 140\n",
            "https://www.politifact.com/factchecks/2020/oct/28/lindsey-graham/graham-says-ny-calif-and-mass-get-over-third-aca-m/#sources\n",
            "processing page : 141\n",
            "https://www.politifact.com/factchecks/2020/oct/28/lyft-lyft/app-based-companies-pushing-prop-22-say-drivers-wi/#sources\n",
            "processing page : 142\n",
            "https://www.politifact.com/factchecks/2020/oct/28/viral-image/no-photo-doesnt-show-bidens-car-big-guy-license-pl/#sources\n",
            "processing page : 143\n",
            "https://www.politifact.com/factchecks/2020/oct/28/viral-image/old-fake-clint-eastwood-quote-about-obama-turns-fa/#sources\n",
            "processing page : 144\n",
            "https://www.politifact.com/factchecks/2020/oct/28/joe-manchin/has-drug-dependence-increased-under-covid-19/#sources\n",
            "processing page : 145\n",
            "https://www.politifact.com/factchecks/2020/oct/28/instagram-posts/ad-history-exhibit-philadelphia-mistaken-attempt-s/#sources\n",
            "processing page : 146\n",
            "https://www.politifact.com/factchecks/2020/oct/28/donald-trump/trumps-misleading-claim-about-ballot-signatures-ne/#sources\n",
            "processing page : 147\n",
            "https://www.politifact.com/factchecks/2020/oct/28/facebook-posts/yes-thin-blue-line-flag-has-taken-more-prominent-p/#sources\n",
            "processing page : 148\n",
            "https://www.politifact.com/factchecks/2020/oct/28/jon-hoadley/upton-voted-dozen-times-support-repealing-affordab/#sources\n",
            "processing page : 149\n",
            "https://www.politifact.com/factchecks/2020/oct/28/donald-trump/trump-wrong-about-auto-plant-coming-north-carolina/#sources\n",
            "processing page : 150\n",
            "https://www.politifact.com/factchecks/2020/oct/28/donald-trump/fact-checking-trumps-claim-biden-said-he-would-abo/#sources\n"
          ],
          "name": "stdout"
        }
      ]
    },
    {
      "cell_type": "code",
      "metadata": {
        "id": "cqFAAar79Md8",
        "colab": {
          "base_uri": "https://localhost:8080/",
          "height": 204
        },
        "outputId": "ec2d12a5-e2c7-4842-cdcb-aa99255d0e5d"
      },
      "source": [
        "data3=pd.DataFrame(upperframe, columns=['Title','Author','Author_Link'])\n",
        "data3.to_csv('News_Sources3.csv')\n",
        "data3.head()"
      ],
      "execution_count": null,
      "outputs": [
        {
          "output_type": "execute_result",
          "data": {
            "text/html": [
              "<div>\n",
              "<style scoped>\n",
              "    .dataframe tbody tr th:only-of-type {\n",
              "        vertical-align: middle;\n",
              "    }\n",
              "\n",
              "    .dataframe tbody tr th {\n",
              "        vertical-align: top;\n",
              "    }\n",
              "\n",
              "    .dataframe thead th {\n",
              "        text-align: right;\n",
              "    }\n",
              "</style>\n",
              "<table border=\"1\" class=\"dataframe\">\n",
              "  <thead>\n",
              "    <tr style=\"text-align: right;\">\n",
              "      <th></th>\n",
              "      <th>Title</th>\n",
              "      <th>Author</th>\n",
              "      <th>Author_Link</th>\n",
              "    </tr>\n",
              "  </thead>\n",
              "  <tbody>\n",
              "    <tr>\n",
              "      <th>0</th>\n",
              "      <td>\"I’ve released 22 years of my tax returns. You...</td>\n",
              "      <td>Joe Biden on YouTube, \"Joe Biden and President...</td>\n",
              "      <td>https://www.youtube.com/watch?v=3HNUBK9PIiE</td>\n",
              "    </tr>\n",
              "    <tr>\n",
              "      <th>1</th>\n",
              "      <td>\"I’ve released 22 years of my tax returns. You...</td>\n",
              "      <td>Joe Biden for President, \"Financial Disclosure...</td>\n",
              "      <td>https://joebiden.com/financial-disclosure/#</td>\n",
              "    </tr>\n",
              "    <tr>\n",
              "      <th>2</th>\n",
              "      <td>\"I’ve released 22 years of my tax returns. You...</td>\n",
              "      <td>Obama for America, \"Have Senator Biden and Dr....</td>\n",
              "      <td>https://web.archive.org/web/20081102032427/htt...</td>\n",
              "    </tr>\n",
              "    <tr>\n",
              "      <th>3</th>\n",
              "      <td>\"I’ve released 22 years of my tax returns. You...</td>\n",
              "      <td>Tax Notes, \"Presidential Tax Returns,\" accesse...</td>\n",
              "      <td>https://www.taxnotes.com/presidential-tax-returns</td>\n",
              "    </tr>\n",
              "    <tr>\n",
              "      <th>4</th>\n",
              "      <td>\"I’ve released 22 years of my tax returns. You...</td>\n",
              "      <td>The White House of President Barack Obama, \"Pr...</td>\n",
              "      <td>https://obamawhitehouse.archives.gov/blog/2016...</td>\n",
              "    </tr>\n",
              "  </tbody>\n",
              "</table>\n",
              "</div>"
            ],
            "text/plain": [
              "                                               Title  ...                                        Author_Link\n",
              "0  \"I’ve released 22 years of my tax returns. You...  ...        https://www.youtube.com/watch?v=3HNUBK9PIiE\n",
              "1  \"I’ve released 22 years of my tax returns. You...  ...        https://joebiden.com/financial-disclosure/#\n",
              "2  \"I’ve released 22 years of my tax returns. You...  ...  https://web.archive.org/web/20081102032427/htt...\n",
              "3  \"I’ve released 22 years of my tax returns. You...  ...  https://www.taxnotes.com/presidential-tax-returns\n",
              "4  \"I’ve released 22 years of my tax returns. You...  ...  https://obamawhitehouse.archives.gov/blog/2016...\n",
              "\n",
              "[5 rows x 3 columns]"
            ]
          },
          "metadata": {
            "tags": []
          },
          "execution_count": 45
        }
      ]
    },
    {
      "cell_type": "code",
      "metadata": {
        "id": "32q1GkYB9WBj",
        "colab": {
          "base_uri": "https://localhost:8080/"
        },
        "outputId": "baac70ec-b12b-4600-d6ec-edc0f0538ab7"
      },
      "source": [
        "import urllib.request,sys,time\n",
        "from bs4 import BeautifulSoup\n",
        "import requests\n",
        "import pandas as pd\n",
        "\n",
        "pagesToGet= 200\n",
        "#pagesToGet= 2\n",
        "upperframe=[]  \n",
        "for page in range(150,pagesToGet):\n",
        "    print('processing page :', page+1)\n",
        "    link = df['Link'][page]\n",
        "    url = str(link)+'#sources'\n",
        "    print(url)\n",
        "    \n",
        "    \n",
        "    #an exception might be thrown, so the code should be in a try-except block\n",
        "    try:\n",
        "        #use the browser to get the url. This is suspicious command that might blow up.\n",
        "        curr_page=requests.get(url)  \n",
        "        #print(page.text)                           # this might throw an exception if something goes wrong.\n",
        "    \n",
        "    except Exception as e:                                   # this describes what to do if an exception is thrown\n",
        "        error_type, error_obj, error_info = sys.exc_info()      # get the exception information\n",
        "        print ('ERROR FOR LINK:',url)                          #print the link that cause the problem\n",
        "        print (error_type, 'Line:', error_info.tb_lineno)     #print error info and line that threw the exception\n",
        "        continue                                              #ignore this page. Abandon this and go back.\n",
        "    time.sleep(2)   \n",
        "    soup=BeautifulSoup(curr_page.text,'html.parser')\n",
        "    frame=[]\n",
        "    #links=soup.find_all('li',attrs={'class':'o-listicle__item'})\n",
        "    \n",
        "    article_tag=soup.find('article',attrs={'class':'m-superbox__content'})\n",
        "    article_title=soup.find('div',attrs={'class':'m-statement__quote'})\n",
        "    #print(len(links))\n",
        "    filename=\"News_Sources4.csv\"\n",
        "    f=open(filename,\"w\", encoding = 'utf-8')\n",
        "    headers=\"Title, Author, Author_Link\\n\"\n",
        "    f.write(headers)\n",
        "    \n",
        "    \n",
        "\n",
        "    authors = article_tag.find_all(\"p\")\n",
        "    for author in authors:\n",
        "      Title = article_title.text.strip()\n",
        "      Author = author.text.strip()\n",
        "      if(author.find('a')):\n",
        "        Author_Link = author.find('a')['href'].strip()\n",
        "      else:\n",
        "        Author_Link = '0'\n",
        "      frame.append((Title,Author,Author_Link))\n",
        "      f.write(Title+\",\"+Author+\",\"+Author_Link+\"\\n\")\n",
        "    upperframe.extend(frame)\n",
        "f.close()"
      ],
      "execution_count": null,
      "outputs": [
        {
          "output_type": "stream",
          "text": [
            "processing page : 151\n",
            "https://www.politifact.com/factchecks/2020/oct/28/thom-tillis/sen-thom-tillis-flip-flops-filling-supreme-court-v/#sources\n",
            "processing page : 152\n",
            "https://www.politifact.com/factchecks/2020/oct/28/chris-jacobs/jacobs-charge-mcmurray-raised-taxes-grand-island-c/#sources\n",
            "processing page : 153\n",
            "https://www.politifact.com/factchecks/2020/oct/27/donald-trump/trumps-exaggerated-claim-he-saved-hbcus-2019-fundi/#sources\n",
            "processing page : 154\n",
            "https://www.politifact.com/factchecks/2020/oct/27/donald-trump/biden-was-quoting-pope-francis-not-expressing-conf/#sources\n",
            "processing page : 155\n",
            "https://www.politifact.com/factchecks/2020/oct/27/instagram-posts/malia-obama-credit-card-photo-isnt-new-and-theres-/#sources\n",
            "processing page : 156\n",
            "https://www.politifact.com/factchecks/2020/oct/27/tom-brady/no-suicides-have-not-outpaced-covid-19-deaths/#sources\n",
            "processing page : 157\n",
            "https://www.politifact.com/factchecks/2020/oct/27/american-principles-project/conservative-groups-claim-joe-biden-backs-sex-chan/#sources\n",
            "processing page : 158\n",
            "https://www.politifact.com/factchecks/2020/oct/27/donald-trump/trump-wrong-claim-us-padding-covid-19-stats/#sources\n",
            "processing page : 159\n",
            "https://www.politifact.com/factchecks/2020/oct/27/donald-trump/donald-trump-says-you-can-change-your-vote-most-st/#sources\n",
            "processing page : 160\n",
            "https://www.politifact.com/factchecks/2020/oct/27/facebook-posts/hunter-biden-alive-despite-social-media-claims-abo/#sources\n",
            "processing page : 161\n",
            "https://www.politifact.com/factchecks/2020/oct/27/kayleigh-mcenany/white-house-press-secretary-mcenany-takes-bidens-w/#sources\n",
            "processing page : 162\n",
            "https://www.politifact.com/factchecks/2020/oct/27/facebook-posts/great-barrington-herd-immunity-document-widely-dis/#sources\n",
            "processing page : 163\n",
            "https://www.politifact.com/factchecks/2020/oct/27/facebook-posts/no-photo-paul-pelosi-jr-doesnt-show-him-abusing-gi/#sources\n",
            "processing page : 164\n",
            "https://www.politifact.com/factchecks/2020/oct/27/sri-preston-kulkarni/texas-house-race-kulkarni-distorts-nehls-take-mask/#sources\n",
            "processing page : 165\n",
            "https://www.politifact.com/factchecks/2020/oct/26/facebook-posts/no-evidence-hunter-biden-had-photos-coons-daughter/#sources\n",
            "processing page : 166\n",
            "https://www.politifact.com/factchecks/2020/oct/26/donald-trump/trump-wrongly-accuses-dc-mayor-calling-removal-was/#sources\n",
            "processing page : 167\n",
            "https://www.politifact.com/factchecks/2020/oct/26/scott-perry/pa-rep-scott-perry-airs-debunked-claim-wuhan-lab-c/#sources\n",
            "processing page : 168\n",
            "https://www.politifact.com/factchecks/2020/oct/26/joni-ernst/bipartisanship-rankings-show-joni-ernst-toward-top/#sources\n",
            "processing page : 169\n",
            "https://www.politifact.com/factchecks/2020/oct/26/viral-image/viral-image-migrant-cages-2019-not-obama-years/#sources\n",
            "processing page : 170\n",
            "https://www.politifact.com/factchecks/2020/oct/25/blog-posting/no-mark-kelly-did-not-dress-hitler/#sources\n",
            "processing page : 171\n",
            "https://www.politifact.com/factchecks/2020/oct/25/facebook-posts/bidens-tax-plan-wont-tax-401k-accounts/#sources\n",
            "processing page : 172\n",
            "https://www.politifact.com/factchecks/2020/oct/25/facebook-posts/presidential-candidates-had-notepads-podiums-not-i/#sources\n",
            "processing page : 173\n",
            "https://www.politifact.com/factchecks/2020/oct/25/facebook-posts/no-trump-did-not-vote-twice-nov-3-election/#sources\n",
            "processing page : 174\n",
            "https://www.politifact.com/factchecks/2020/oct/23/ron-johnson/us-sen-ron-johnson-confuses-and-misses-claim-about/#sources\n",
            "processing page : 175\n",
            "https://www.politifact.com/factchecks/2020/oct/23/joe-biden/biden-wrongly-claims-obama-policies-released-38000/#sources\n",
            "processing page : 176\n",
            "https://www.politifact.com/factchecks/2020/oct/23/roger-williams/no-texas-does-not-have-lowest-taxes-and-fewest-reg/#sources\n",
            "processing page : 177\n",
            "https://www.politifact.com/factchecks/2020/oct/23/viral-image/facebook-post-misstates-number-biden-owned-propert/#sources\n",
            "processing page : 178\n",
            "https://www.politifact.com/factchecks/2020/oct/23/lucy-mcbath/georgia-rep-lucy-mcbath-cherry-picks-attack-karen-/#sources\n",
            "processing page : 179\n",
            "https://www.politifact.com/factchecks/2020/oct/23/joe-biden/bidens-claim-about-trump-slashing-medicare-benefit/#sources\n",
            "processing page : 180\n",
            "https://www.politifact.com/factchecks/2020/oct/23/nicole-galloway/parson-administration-did-remove-100000-kids-medic/#sources\n",
            "processing page : 181\n",
            "https://www.politifact.com/factchecks/2020/oct/23/vicky-hartzler/hartzlers-claim-isnt-close-were-long-way-away-herd/#sources\n",
            "processing page : 182\n",
            "https://www.politifact.com/factchecks/2020/oct/23/donald-trump/trump-says-michigan-during-coronavirus-pandemic-ha/#sources\n",
            "processing page : 183\n",
            "https://www.politifact.com/factchecks/2020/oct/23/facebook-posts/trump-did-not-say-good-when-talking-about-family-s/#sources\n",
            "processing page : 184\n",
            "https://www.politifact.com/factchecks/2020/oct/23/donald-trump/trump-wrong-blame-pandemic-foxconn-struggles/#sources\n",
            "processing page : 185\n",
            "https://www.politifact.com/factchecks/2020/oct/23/donald-trump/trumps-misguided-claim-bidens-health-plan-will-ter/#sources\n",
            "processing page : 186\n",
            "https://www.politifact.com/factchecks/2020/oct/23/donald-trump/trump-repeats-flawed-claim-biden-opposed-trumps-co/#sources\n",
            "processing page : 187\n",
            "https://www.politifact.com/factchecks/2020/oct/23/donald-trump/no-fight-against-coronavirus-isnt-rounding-corner-/#sources\n",
            "processing page : 188\n",
            "https://www.politifact.com/factchecks/2020/oct/23/donald-trump/fact-checking-trumps-claim-pennsylvania-never-open/#sources\n",
            "processing page : 189\n",
            "https://www.politifact.com/factchecks/2020/oct/23/martha-mcsally/mark-kelly-did-not-take-chinese-communist-banner-s/#sources\n",
            "processing page : 190\n",
            "https://www.politifact.com/factchecks/2020/oct/22/facebook-posts/bidens-income-sources-arent-such-big-mystery/#sources\n",
            "processing page : 191\n",
            "https://www.politifact.com/factchecks/2020/oct/22/facebook-posts/biden-campaign-logo-does-not-pay-homage-chinese-so/#sources\n",
            "processing page : 192\n",
            "https://www.politifact.com/factchecks/2020/oct/22/facebook-posts/joe-biden-did-not-say-he-would-wait-till-after-ele/#sources\n",
            "processing page : 193\n",
            "https://www.politifact.com/factchecks/2020/oct/22/facebook-posts/video-kamala-harris-husband-saying-hes-married-nex/#sources\n",
            "processing page : 194\n",
            "https://www.politifact.com/factchecks/2020/oct/22/facebook-posts/maryland-elections-officials-say-video-doesnt-show/#sources\n",
            "processing page : 195\n",
            "https://www.politifact.com/factchecks/2020/oct/22/blog-posting/officials-think-iran-sent-fake-proud-boys-emails-t/#sources\n",
            "processing page : 196\n",
            "https://www.politifact.com/factchecks/2020/oct/22/instagram-posts/no-evidence-california-sent-440000-nov-3-ballots-i/#sources\n",
            "processing page : 197\n",
            "https://www.politifact.com/factchecks/2020/oct/22/roy-cooper/does-forest-want-open-state-aid-rich-north-carolin/#sources\n",
            "processing page : 198\n",
            "https://www.politifact.com/factchecks/2020/oct/21/donald-trump/fact-checking-trumps-overblown-statement-about-bal/#sources\n",
            "processing page : 199\n",
            "https://www.politifact.com/factchecks/2020/oct/21/donald-trump/trump-campaign-ad-takes-biden-out-context-three-ti/#sources\n",
            "processing page : 200\n",
            "https://www.politifact.com/factchecks/2020/oct/21/viral-image/looking-ideologies-whitmer-kidnapping-plot-suspect/#sources\n"
          ],
          "name": "stdout"
        }
      ]
    },
    {
      "cell_type": "markdown",
      "metadata": {
        "id": "T_iiEjjXMt-O"
      },
      "source": [
        "Now the sources for the posts is scraped.\n",
        "\n",
        "Save the data in a data frame and add resutls to the CSV"
      ]
    },
    {
      "cell_type": "code",
      "metadata": {
        "id": "Zld-3sGl9ZFA",
        "colab": {
          "base_uri": "https://localhost:8080/",
          "height": 289
        },
        "outputId": "d740b1ff-6871-4d61-e302-617db85ad184"
      },
      "source": [
        "data4=pd.DataFrame(upperframe, columns=['Title','Author','Author_Link'])\n",
        "data4.to_csv('News_Sources4.csv')\n",
        "data4.head()"
      ],
      "execution_count": null,
      "outputs": [
        {
          "output_type": "execute_result",
          "data": {
            "text/html": [
              "<div>\n",
              "<style scoped>\n",
              "    .dataframe tbody tr th:only-of-type {\n",
              "        vertical-align: middle;\n",
              "    }\n",
              "\n",
              "    .dataframe tbody tr th {\n",
              "        vertical-align: top;\n",
              "    }\n",
              "\n",
              "    .dataframe thead th {\n",
              "        text-align: right;\n",
              "    }\n",
              "</style>\n",
              "<table border=\"1\" class=\"dataframe\">\n",
              "  <thead>\n",
              "    <tr style=\"text-align: right;\">\n",
              "      <th></th>\n",
              "      <th>Title</th>\n",
              "      <th>Author</th>\n",
              "      <th>Author_Link</th>\n",
              "    </tr>\n",
              "  </thead>\n",
              "  <tbody>\n",
              "    <tr>\n",
              "      <th>0</th>\n",
              "      <td>On confirming a Supreme Court justice nominee ...</td>\n",
              "      <td>PolitiFact stories, \"Is there a 'Biden Rule' o...</td>\n",
              "      <td>https://www.politifact.com/article/2020/sep/21...</td>\n",
              "    </tr>\n",
              "    <tr>\n",
              "      <th>1</th>\n",
              "      <td>On confirming a Supreme Court justice nominee ...</td>\n",
              "      <td>Video uploaded by Thom Tillis, \"Tillis agrees ...</td>\n",
              "      <td>https://www.youtube.com/watch?v=kdQEA7En588</td>\n",
              "    </tr>\n",
              "    <tr>\n",
              "      <th>2</th>\n",
              "      <td>On confirming a Supreme Court justice nominee ...</td>\n",
              "      <td>Video uploaded on C-Span’s website, \"Tillis at...</td>\n",
              "      <td>https://www.c-span.org/video/?c4583666/user-cl...</td>\n",
              "    </tr>\n",
              "    <tr>\n",
              "      <th>3</th>\n",
              "      <td>On confirming a Supreme Court justice nominee ...</td>\n",
              "      <td>Op-ed by Thom Tillis in USA Today, \"Sen. Tilli...</td>\n",
              "      <td>https://www.usatoday.com/story/opinion/2016/08...</td>\n",
              "    </tr>\n",
              "    <tr>\n",
              "      <th>4</th>\n",
              "      <td>On confirming a Supreme Court justice nominee ...</td>\n",
              "      <td>Video by MSNBC, \"GOP Sen. on Gorsuch Confirmat...</td>\n",
              "      <td>https://www.msnbc.com/mtp-daily/watch/gop-sen-...</td>\n",
              "    </tr>\n",
              "  </tbody>\n",
              "</table>\n",
              "</div>"
            ],
            "text/plain": [
              "                                               Title  ...                                        Author_Link\n",
              "0  On confirming a Supreme Court justice nominee ...  ...  https://www.politifact.com/article/2020/sep/21...\n",
              "1  On confirming a Supreme Court justice nominee ...  ...        https://www.youtube.com/watch?v=kdQEA7En588\n",
              "2  On confirming a Supreme Court justice nominee ...  ...  https://www.c-span.org/video/?c4583666/user-cl...\n",
              "3  On confirming a Supreme Court justice nominee ...  ...  https://www.usatoday.com/story/opinion/2016/08...\n",
              "4  On confirming a Supreme Court justice nominee ...  ...  https://www.msnbc.com/mtp-daily/watch/gop-sen-...\n",
              "\n",
              "[5 rows x 3 columns]"
            ]
          },
          "metadata": {
            "tags": []
          },
          "execution_count": 49
        }
      ]
    },
    {
      "cell_type": "code",
      "metadata": {
        "id": "oo9k3chl66oJ"
      },
      "source": [
        "data = data1.append(data2).append(data3).append(data4)"
      ],
      "execution_count": null,
      "outputs": []
    },
    {
      "cell_type": "code",
      "metadata": {
        "id": "uIPQ6pb46_aM",
        "colab": {
          "base_uri": "https://localhost:8080/",
          "height": 289
        },
        "outputId": "e79bd523-a3d5-4a3e-8ad2-033d767e0337"
      },
      "source": [
        "data.head()"
      ],
      "execution_count": null,
      "outputs": [
        {
          "output_type": "execute_result",
          "data": {
            "text/html": [
              "<div>\n",
              "<style scoped>\n",
              "    .dataframe tbody tr th:only-of-type {\n",
              "        vertical-align: middle;\n",
              "    }\n",
              "\n",
              "    .dataframe tbody tr th {\n",
              "        vertical-align: top;\n",
              "    }\n",
              "\n",
              "    .dataframe thead th {\n",
              "        text-align: right;\n",
              "    }\n",
              "</style>\n",
              "<table border=\"1\" class=\"dataframe\">\n",
              "  <thead>\n",
              "    <tr style=\"text-align: right;\">\n",
              "      <th></th>\n",
              "      <th>Title</th>\n",
              "      <th>Author</th>\n",
              "      <th>Author_Link</th>\n",
              "    </tr>\n",
              "  </thead>\n",
              "  <tbody>\n",
              "    <tr>\n",
              "      <th>0</th>\n",
              "      <td>Says “132,000 ballots in Fulton County, Ga., h...</td>\n",
              "      <td>CNN, \"Georgia GOP lieutenant governor says ‘no...</td>\n",
              "      <td>https://edition.cnn.com/2020/11/09/politics/ge...</td>\n",
              "    </tr>\n",
              "    <tr>\n",
              "      <th>1</th>\n",
              "      <td>Says “132,000 ballots in Fulton County, Ga., h...</td>\n",
              "      <td>Facebook post, Nov. 8, 2020</td>\n",
              "      <td>https://www.facebook.com/TheHipHopPatriot/post...</td>\n",
              "    </tr>\n",
              "    <tr>\n",
              "      <th>2</th>\n",
              "      <td>Says “132,000 ballots in Fulton County, Ga., h...</td>\n",
              "      <td>Gateway Pundit, \"132,000 ballots in Fulton Cou...</td>\n",
              "      <td>https://www.thegatewaypundit.com/2020/11/huge-...</td>\n",
              "    </tr>\n",
              "    <tr>\n",
              "      <th>3</th>\n",
              "      <td>Says “132,000 ballots in Fulton County, Ga., h...</td>\n",
              "      <td>LinkedIn profile, accessed Nov. 10, 2020</td>\n",
              "      <td>https://www.linkedin.com/in/richardbaris</td>\n",
              "    </tr>\n",
              "    <tr>\n",
              "      <th>4</th>\n",
              "      <td>Says “132,000 ballots in Fulton County, Ga., h...</td>\n",
              "      <td>Red State Nation, \"Allegedly there are 132k ch...</td>\n",
              "      <td>https://redstatenation.com/allegedly-there-are...</td>\n",
              "    </tr>\n",
              "  </tbody>\n",
              "</table>\n",
              "</div>"
            ],
            "text/plain": [
              "                                               Title  ...                                        Author_Link\n",
              "0  Says “132,000 ballots in Fulton County, Ga., h...  ...  https://edition.cnn.com/2020/11/09/politics/ge...\n",
              "1  Says “132,000 ballots in Fulton County, Ga., h...  ...  https://www.facebook.com/TheHipHopPatriot/post...\n",
              "2  Says “132,000 ballots in Fulton County, Ga., h...  ...  https://www.thegatewaypundit.com/2020/11/huge-...\n",
              "3  Says “132,000 ballots in Fulton County, Ga., h...  ...           https://www.linkedin.com/in/richardbaris\n",
              "4  Says “132,000 ballots in Fulton County, Ga., h...  ...  https://redstatenation.com/allegedly-there-are...\n",
              "\n",
              "[5 rows x 3 columns]"
            ]
          },
          "metadata": {
            "tags": []
          },
          "execution_count": 128
        }
      ]
    },
    {
      "cell_type": "code",
      "metadata": {
        "id": "Ujs41XP27C3a",
        "colab": {
          "base_uri": "https://localhost:8080/"
        },
        "outputId": "d43ecd47-4224-4354-e577-751d65e8d9b6"
      },
      "source": [
        "data.shape"
      ],
      "execution_count": null,
      "outputs": [
        {
          "output_type": "execute_result",
          "data": {
            "text/plain": [
              "(1937, 3)"
            ]
          },
          "metadata": {
            "tags": []
          },
          "execution_count": 129
        }
      ]
    },
    {
      "cell_type": "code",
      "metadata": {
        "id": "h1hYrndU_CYm"
      },
      "source": [
        "data.to_csv('News_Sources_final.csv')"
      ],
      "execution_count": null,
      "outputs": []
    },
    {
      "cell_type": "code",
      "metadata": {
        "id": "zOr4HimOdolf"
      },
      "source": [
        "#data = pd.read_csv('/content/drive/My Drive/Alternus_Vera/Veracity/News_Sources_final.csv',sep=',')"
      ],
      "execution_count": null,
      "outputs": []
    },
    {
      "cell_type": "code",
      "metadata": {
        "id": "oqZZB6-FeF-Q",
        "colab": {
          "base_uri": "https://localhost:8080/",
          "height": 289
        },
        "outputId": "8d012817-c565-4772-ffca-0d9af9c9289b"
      },
      "source": [
        "data.head()"
      ],
      "execution_count": null,
      "outputs": [
        {
          "output_type": "execute_result",
          "data": {
            "text/html": [
              "<div>\n",
              "<style scoped>\n",
              "    .dataframe tbody tr th:only-of-type {\n",
              "        vertical-align: middle;\n",
              "    }\n",
              "\n",
              "    .dataframe tbody tr th {\n",
              "        vertical-align: top;\n",
              "    }\n",
              "\n",
              "    .dataframe thead th {\n",
              "        text-align: right;\n",
              "    }\n",
              "</style>\n",
              "<table border=\"1\" class=\"dataframe\">\n",
              "  <thead>\n",
              "    <tr style=\"text-align: right;\">\n",
              "      <th></th>\n",
              "      <th>Title</th>\n",
              "      <th>Author</th>\n",
              "      <th>Author_Link</th>\n",
              "    </tr>\n",
              "  </thead>\n",
              "  <tbody>\n",
              "    <tr>\n",
              "      <th>0</th>\n",
              "      <td>Says “132,000 ballots in Fulton County, Ga., h...</td>\n",
              "      <td>CNN, \"Georgia GOP lieutenant governor says ‘no...</td>\n",
              "      <td>https://edition.cnn.com/2020/11/09/politics/ge...</td>\n",
              "    </tr>\n",
              "    <tr>\n",
              "      <th>1</th>\n",
              "      <td>Says “132,000 ballots in Fulton County, Ga., h...</td>\n",
              "      <td>Facebook post, Nov. 8, 2020</td>\n",
              "      <td>https://www.facebook.com/TheHipHopPatriot/post...</td>\n",
              "    </tr>\n",
              "    <tr>\n",
              "      <th>2</th>\n",
              "      <td>Says “132,000 ballots in Fulton County, Ga., h...</td>\n",
              "      <td>Gateway Pundit, \"132,000 ballots in Fulton Cou...</td>\n",
              "      <td>https://www.thegatewaypundit.com/2020/11/huge-...</td>\n",
              "    </tr>\n",
              "    <tr>\n",
              "      <th>3</th>\n",
              "      <td>Says “132,000 ballots in Fulton County, Ga., h...</td>\n",
              "      <td>LinkedIn profile, accessed Nov. 10, 2020</td>\n",
              "      <td>https://www.linkedin.com/in/richardbaris</td>\n",
              "    </tr>\n",
              "    <tr>\n",
              "      <th>4</th>\n",
              "      <td>Says “132,000 ballots in Fulton County, Ga., h...</td>\n",
              "      <td>Red State Nation, \"Allegedly there are 132k ch...</td>\n",
              "      <td>https://redstatenation.com/allegedly-there-are...</td>\n",
              "    </tr>\n",
              "  </tbody>\n",
              "</table>\n",
              "</div>"
            ],
            "text/plain": [
              "                                               Title  ...                                        Author_Link\n",
              "0  Says “132,000 ballots in Fulton County, Ga., h...  ...  https://edition.cnn.com/2020/11/09/politics/ge...\n",
              "1  Says “132,000 ballots in Fulton County, Ga., h...  ...  https://www.facebook.com/TheHipHopPatriot/post...\n",
              "2  Says “132,000 ballots in Fulton County, Ga., h...  ...  https://www.thegatewaypundit.com/2020/11/huge-...\n",
              "3  Says “132,000 ballots in Fulton County, Ga., h...  ...           https://www.linkedin.com/in/richardbaris\n",
              "4  Says “132,000 ballots in Fulton County, Ga., h...  ...  https://redstatenation.com/allegedly-there-are...\n",
              "\n",
              "[5 rows x 3 columns]"
            ]
          },
          "metadata": {
            "tags": []
          },
          "execution_count": 130
        }
      ]
    },
    {
      "cell_type": "code",
      "metadata": {
        "id": "-Tyy_H91eKfq",
        "colab": {
          "base_uri": "https://localhost:8080/"
        },
        "outputId": "2bd09dc4-ae70-4677-83af-b1f857714adf"
      },
      "source": [
        "data.shape"
      ],
      "execution_count": null,
      "outputs": [
        {
          "output_type": "execute_result",
          "data": {
            "text/plain": [
              "(1937, 3)"
            ]
          },
          "metadata": {
            "tags": []
          },
          "execution_count": 131
        }
      ]
    },
    {
      "cell_type": "markdown",
      "metadata": {
        "id": "GQR874tEViTL"
      },
      "source": [
        "##Data Preparation"
      ]
    },
    {
      "cell_type": "markdown",
      "metadata": {
        "id": "9tvIcnVOzITj"
      },
      "source": [
        "###Preprocess data by categorizing based on Source"
      ]
    },
    {
      "cell_type": "markdown",
      "metadata": {
        "id": "eHD9Y8mscfbU"
      },
      "source": [
        "Separate the posts with resource such as social media posts or blogposts or social media videos."
      ]
    },
    {
      "cell_type": "code",
      "metadata": {
        "id": "0MvGMAh3byyg",
        "colab": {
          "base_uri": "https://localhost:8080/",
          "height": 572
        },
        "outputId": "9ad98d2e-b01f-4b6d-ac0c-8b0720d7cfad"
      },
      "source": [
        "df_clean = data\n",
        "\n",
        "df_no_source = df_clean[df_clean.Author_Link == '0']\n",
        "df_no_source = df_clean[df_clean.Author.str.contains('Facebook')]\n",
        "df_no_source = df_clean[df_clean.Author.str.contains('Twitter')]\n",
        "df_no_source = df_clean[df_clean.Author.str.contains('TikTok')]\n",
        "df_no_source = df_clean[df_clean.Author.str.contains('PolitiFact')]\n",
        "df_no_source = df_clean[df_clean.Author.str.contains('Social Media')]\n",
        "df_no_source = df_clean[df_clean.Author.str.contains('Post')]\n",
        "df_no_source"
      ],
      "execution_count": null,
      "outputs": [
        {
          "output_type": "execute_result",
          "data": {
            "text/html": [
              "<div>\n",
              "<style scoped>\n",
              "    .dataframe tbody tr th:only-of-type {\n",
              "        vertical-align: middle;\n",
              "    }\n",
              "\n",
              "    .dataframe tbody tr th {\n",
              "        vertical-align: top;\n",
              "    }\n",
              "\n",
              "    .dataframe thead th {\n",
              "        text-align: right;\n",
              "    }\n",
              "</style>\n",
              "<table border=\"1\" class=\"dataframe\">\n",
              "  <thead>\n",
              "    <tr style=\"text-align: right;\">\n",
              "      <th></th>\n",
              "      <th>Title</th>\n",
              "      <th>Author</th>\n",
              "      <th>Author_Link</th>\n",
              "    </tr>\n",
              "  </thead>\n",
              "  <tbody>\n",
              "    <tr>\n",
              "      <th>26</th>\n",
              "      <td>A “system glitch” in Wisconsin that “swapped v...</td>\n",
              "      <td>Washington Post, Wisconsin, updated Nov. 10, 2020</td>\n",
              "      <td>https://www.washingtonpost.com/elections/elect...</td>\n",
              "    </tr>\n",
              "    <tr>\n",
              "      <th>95</th>\n",
              "      <td>“Joe Biden is no longer the President-elect ac...</td>\n",
              "      <td>The Washington Post, \"First CNN, then within m...</td>\n",
              "      <td>https://www.washingtonpost.com/media/2020/11/0...</td>\n",
              "    </tr>\n",
              "    <tr>\n",
              "      <th>141</th>\n",
              "      <td>Says The Washington Times ran a front-page hea...</td>\n",
              "      <td>New York Post, Trump campaign touts fake news ...</td>\n",
              "      <td>https://nypost.com/2020/11/09/trump-campaign-t...</td>\n",
              "    </tr>\n",
              "    <tr>\n",
              "      <th>148</th>\n",
              "      <td>Says a New York Post cover used the headline “...</td>\n",
              "      <td>New York Post cover, Nov. 4, 2020</td>\n",
              "      <td>https://nypost.com/cover/november-4-2020/</td>\n",
              "    </tr>\n",
              "    <tr>\n",
              "      <th>149</th>\n",
              "      <td>Says a New York Post cover used the headline “...</td>\n",
              "      <td>New York Post cover, Nov. 8, 2020</td>\n",
              "      <td>https://nypost.com/cover/november-8-2020/</td>\n",
              "    </tr>\n",
              "    <tr>\n",
              "      <th>...</th>\n",
              "      <td>...</td>\n",
              "      <td>...</td>\n",
              "      <td>...</td>\n",
              "    </tr>\n",
              "    <tr>\n",
              "      <th>452</th>\n",
              "      <td>A video shows ballots being changed in Maryland.</td>\n",
              "      <td>The Washington Post, Md. elections officials s...</td>\n",
              "      <td>https://www.washingtonpost.com/local/md-politi...</td>\n",
              "    </tr>\n",
              "    <tr>\n",
              "      <th>455</th>\n",
              "      <td>“Leftists” sent “Proud Boys” emails threatenin...</td>\n",
              "      <td>The Washington Post, Trump’s call for poll-wat...</td>\n",
              "      <td>https://www.washingtonpost.com/politics/trumps...</td>\n",
              "    </tr>\n",
              "    <tr>\n",
              "      <th>477</th>\n",
              "      <td>“Phony” ballots “were printed without my name ...</td>\n",
              "      <td>U.S. Attorney’s Office District of New Jersey,...</td>\n",
              "      <td>https://www.justice.gov/usao-nj/pr/postal-empl...</td>\n",
              "    </tr>\n",
              "    <tr>\n",
              "      <th>511</th>\n",
              "      <td>In the plot to kidnap Michigan Gov. Gretchen W...</td>\n",
              "      <td>New York Post, Brandon Caserta, accused of Gre...</td>\n",
              "      <td>https://nypost.com/2020/10/09/man-accused-of-w...</td>\n",
              "    </tr>\n",
              "    <tr>\n",
              "      <th>515</th>\n",
              "      <td>In the plot to kidnap Michigan Gov. Gretchen W...</td>\n",
              "      <td>The Washington Post, Accused leader of plot to...</td>\n",
              "      <td>https://www.washingtonpost.com/national-securi...</td>\n",
              "    </tr>\n",
              "  </tbody>\n",
              "</table>\n",
              "<p>70 rows × 3 columns</p>\n",
              "</div>"
            ],
            "text/plain": [
              "                                                 Title  ...                                        Author_Link\n",
              "26   A “system glitch” in Wisconsin that “swapped v...  ...  https://www.washingtonpost.com/elections/elect...\n",
              "95   “Joe Biden is no longer the President-elect ac...  ...  https://www.washingtonpost.com/media/2020/11/0...\n",
              "141  Says The Washington Times ran a front-page hea...  ...  https://nypost.com/2020/11/09/trump-campaign-t...\n",
              "148  Says a New York Post cover used the headline “...  ...          https://nypost.com/cover/november-4-2020/\n",
              "149  Says a New York Post cover used the headline “...  ...          https://nypost.com/cover/november-8-2020/\n",
              "..                                                 ...  ...                                                ...\n",
              "452   A video shows ballots being changed in Maryland.  ...  https://www.washingtonpost.com/local/md-politi...\n",
              "455  “Leftists” sent “Proud Boys” emails threatenin...  ...  https://www.washingtonpost.com/politics/trumps...\n",
              "477  “Phony” ballots “were printed without my name ...  ...  https://www.justice.gov/usao-nj/pr/postal-empl...\n",
              "511  In the plot to kidnap Michigan Gov. Gretchen W...  ...  https://nypost.com/2020/10/09/man-accused-of-w...\n",
              "515  In the plot to kidnap Michigan Gov. Gretchen W...  ...  https://www.washingtonpost.com/national-securi...\n",
              "\n",
              "[70 rows x 3 columns]"
            ]
          },
          "metadata": {
            "tags": []
          },
          "execution_count": 132
        }
      ]
    },
    {
      "cell_type": "code",
      "metadata": {
        "id": "0Bo630-afwi7",
        "colab": {
          "base_uri": "https://localhost:8080/"
        },
        "outputId": "2472f1a5-8701-4e55-93fe-5598b4a937b5"
      },
      "source": [
        "df_no_source.shape"
      ],
      "execution_count": null,
      "outputs": [
        {
          "output_type": "execute_result",
          "data": {
            "text/plain": [
              "(70, 3)"
            ]
          },
          "metadata": {
            "tags": []
          },
          "execution_count": 55
        }
      ]
    },
    {
      "cell_type": "code",
      "metadata": {
        "id": "8MvOxH8bjKJP",
        "colab": {
          "base_uri": "https://localhost:8080/",
          "height": 589
        },
        "outputId": "3e22bf77-e89d-4aaa-8ba7-68c8d3909484"
      },
      "source": [
        "df_clean = data\n",
        "\n",
        "df_clean = df_clean.drop(df_clean[df_clean.Author_Link == '0'].index)\n",
        "df_clean = df_clean.drop(df_clean[df_clean.Author.str.contains('Facebook')].index)\n",
        "df_clean = df_clean.drop(df_clean[df_clean.Author.str.contains('Twitter')].index)\n",
        "df_clean = df_clean.drop(df_clean[df_clean.Author.str.contains('TikTok')].index)\n",
        "df_clean = df_clean.drop(df_clean[df_clean.Author.str.contains('PolitiFact')].index)\n",
        "df_clean = df_clean.drop(df_clean[df_clean.Author.str.contains('Social Media')].index)\n",
        "df_clean = df_clean.drop(df_clean[df_clean.Author.str.contains('Post')].index)\n",
        "df_clean"
      ],
      "execution_count": null,
      "outputs": [
        {
          "output_type": "execute_result",
          "data": {
            "text/html": [
              "<div>\n",
              "<style scoped>\n",
              "    .dataframe tbody tr th:only-of-type {\n",
              "        vertical-align: middle;\n",
              "    }\n",
              "\n",
              "    .dataframe tbody tr th {\n",
              "        vertical-align: top;\n",
              "    }\n",
              "\n",
              "    .dataframe thead th {\n",
              "        text-align: right;\n",
              "    }\n",
              "</style>\n",
              "<table border=\"1\" class=\"dataframe\">\n",
              "  <thead>\n",
              "    <tr style=\"text-align: right;\">\n",
              "      <th></th>\n",
              "      <th>Title</th>\n",
              "      <th>Author</th>\n",
              "      <th>Author_Link</th>\n",
              "    </tr>\n",
              "  </thead>\n",
              "  <tbody>\n",
              "    <tr>\n",
              "      <th>2</th>\n",
              "      <td>Says “132,000 ballots in Fulton County, Ga., h...</td>\n",
              "      <td>Gateway Pundit, \"132,000 ballots in Fulton Cou...</td>\n",
              "      <td>https://www.thegatewaypundit.com/2020/11/huge-...</td>\n",
              "    </tr>\n",
              "    <tr>\n",
              "      <th>3</th>\n",
              "      <td>Says “132,000 ballots in Fulton County, Ga., h...</td>\n",
              "      <td>LinkedIn profile, accessed Nov. 10, 2020</td>\n",
              "      <td>https://www.linkedin.com/in/richardbaris</td>\n",
              "    </tr>\n",
              "    <tr>\n",
              "      <th>13</th>\n",
              "      <td>Says there are “indications of grossly imprope...</td>\n",
              "      <td>Story by WBTV, \"N.C. elections board investiga...</td>\n",
              "      <td>https://www.wbtv.com/2020/10/31/nc-elections-b...</td>\n",
              "    </tr>\n",
              "    <tr>\n",
              "      <th>14</th>\n",
              "      <td>Says there are “indications of grossly imprope...</td>\n",
              "      <td>Story by WFAE, \"NC State Board Of Elections Lo...</td>\n",
              "      <td>https://www.wfae.org/politics/2020-10-30/nc-st...</td>\n",
              "    </tr>\n",
              "    <tr>\n",
              "      <th>15</th>\n",
              "      <td>Says there are “indications of grossly imprope...</td>\n",
              "      <td>Press release from the North Carolina State Bo...</td>\n",
              "      <td>https://www.ncsbe.gov/news/press-releases/2020...</td>\n",
              "    </tr>\n",
              "    <tr>\n",
              "      <th>...</th>\n",
              "      <td>...</td>\n",
              "      <td>...</td>\n",
              "      <td>...</td>\n",
              "    </tr>\n",
              "    <tr>\n",
              "      <th>513</th>\n",
              "      <td>In the plot to kidnap Michigan Gov. Gretchen W...</td>\n",
              "      <td>JJ MacNab tweet, Oct. 11, 2020</td>\n",
              "      <td>https://twitter.com/jjmacnab/status/1315304270...</td>\n",
              "    </tr>\n",
              "    <tr>\n",
              "      <th>514</th>\n",
              "      <td>In the plot to kidnap Michigan Gov. Gretchen W...</td>\n",
              "      <td>Detroit Free Press, Wisconsin man is 14th to f...</td>\n",
              "      <td>https://www.freep.com/story/news/local/michiga...</td>\n",
              "    </tr>\n",
              "    <tr>\n",
              "      <th>516</th>\n",
              "      <td>In the plot to kidnap Michigan Gov. Gretchen W...</td>\n",
              "      <td>Criminal complaint plot to kidnap Gov. Whitmer...</td>\n",
              "      <td>https://www.scribd.com/document/479237112/Crim...</td>\n",
              "    </tr>\n",
              "    <tr>\n",
              "      <th>517</th>\n",
              "      <td>In the plot to kidnap Michigan Gov. Gretchen W...</td>\n",
              "      <td>Michigan affidavit in support of complaint, un...</td>\n",
              "      <td>https://www.michigan.gov/documents/ag/Affidavi...</td>\n",
              "    </tr>\n",
              "    <tr>\n",
              "      <th>518</th>\n",
              "      <td>In the plot to kidnap Michigan Gov. Gretchen W...</td>\n",
              "      <td>NPR, Michigan AG says white supremacist groups...</td>\n",
              "      <td>https://www.npr.org/sections/live-updates-prot...</td>\n",
              "    </tr>\n",
              "  </tbody>\n",
              "</table>\n",
              "<p>580 rows × 3 columns</p>\n",
              "</div>"
            ],
            "text/plain": [
              "                                                 Title  ...                                        Author_Link\n",
              "2    Says “132,000 ballots in Fulton County, Ga., h...  ...  https://www.thegatewaypundit.com/2020/11/huge-...\n",
              "3    Says “132,000 ballots in Fulton County, Ga., h...  ...           https://www.linkedin.com/in/richardbaris\n",
              "13   Says there are “indications of grossly imprope...  ...  https://www.wbtv.com/2020/10/31/nc-elections-b...\n",
              "14   Says there are “indications of grossly imprope...  ...  https://www.wfae.org/politics/2020-10-30/nc-st...\n",
              "15   Says there are “indications of grossly imprope...  ...  https://www.ncsbe.gov/news/press-releases/2020...\n",
              "..                                                 ...  ...                                                ...\n",
              "513  In the plot to kidnap Michigan Gov. Gretchen W...  ...  https://twitter.com/jjmacnab/status/1315304270...\n",
              "514  In the plot to kidnap Michigan Gov. Gretchen W...  ...  https://www.freep.com/story/news/local/michiga...\n",
              "516  In the plot to kidnap Michigan Gov. Gretchen W...  ...  https://www.scribd.com/document/479237112/Crim...\n",
              "517  In the plot to kidnap Michigan Gov. Gretchen W...  ...  https://www.michigan.gov/documents/ag/Affidavi...\n",
              "518  In the plot to kidnap Michigan Gov. Gretchen W...  ...  https://www.npr.org/sections/live-updates-prot...\n",
              "\n",
              "[580 rows x 3 columns]"
            ]
          },
          "metadata": {
            "tags": []
          },
          "execution_count": 133
        }
      ]
    },
    {
      "cell_type": "code",
      "metadata": {
        "id": "62r4ue9zf-pZ",
        "colab": {
          "base_uri": "https://localhost:8080/"
        },
        "outputId": "07b14ae4-fe2c-4b0b-8dcb-54a42042c76b"
      },
      "source": [
        "df_no_source.loc[:,'title_count'] = 0\n",
        "df_no_source.loc[:,'veracity'] = 0"
      ],
      "execution_count": null,
      "outputs": [
        {
          "output_type": "stream",
          "text": [
            "/usr/local/lib/python3.6/dist-packages/pandas/core/indexing.py:1596: SettingWithCopyWarning: \n",
            "A value is trying to be set on a copy of a slice from a DataFrame.\n",
            "Try using .loc[row_indexer,col_indexer] = value instead\n",
            "\n",
            "See the caveats in the documentation: https://pandas.pydata.org/pandas-docs/stable/user_guide/indexing.html#returning-a-view-versus-a-copy\n",
            "  self.obj[key] = _infer_fill_value(value)\n",
            "/usr/local/lib/python3.6/dist-packages/pandas/core/indexing.py:1763: SettingWithCopyWarning: \n",
            "A value is trying to be set on a copy of a slice from a DataFrame.\n",
            "Try using .loc[row_indexer,col_indexer] = value instead\n",
            "\n",
            "See the caveats in the documentation: https://pandas.pydata.org/pandas-docs/stable/user_guide/indexing.html#returning-a-view-versus-a-copy\n",
            "  isetter(loc, value)\n"
          ],
          "name": "stderr"
        }
      ]
    },
    {
      "cell_type": "code",
      "metadata": {
        "id": "5zx-ZitUhaDI",
        "colab": {
          "base_uri": "https://localhost:8080/",
          "height": 289
        },
        "outputId": "0d5923be-13bf-4b65-8e7a-0f5e772e6ab6"
      },
      "source": [
        "df_no_source.head()"
      ],
      "execution_count": null,
      "outputs": [
        {
          "output_type": "execute_result",
          "data": {
            "text/html": [
              "<div>\n",
              "<style scoped>\n",
              "    .dataframe tbody tr th:only-of-type {\n",
              "        vertical-align: middle;\n",
              "    }\n",
              "\n",
              "    .dataframe tbody tr th {\n",
              "        vertical-align: top;\n",
              "    }\n",
              "\n",
              "    .dataframe thead th {\n",
              "        text-align: right;\n",
              "    }\n",
              "</style>\n",
              "<table border=\"1\" class=\"dataframe\">\n",
              "  <thead>\n",
              "    <tr style=\"text-align: right;\">\n",
              "      <th></th>\n",
              "      <th>Title</th>\n",
              "      <th>Author</th>\n",
              "      <th>Author_Link</th>\n",
              "      <th>title_count</th>\n",
              "      <th>veracity</th>\n",
              "    </tr>\n",
              "  </thead>\n",
              "  <tbody>\n",
              "    <tr>\n",
              "      <th>26</th>\n",
              "      <td>A “system glitch” in Wisconsin that “swapped v...</td>\n",
              "      <td>Washington Post, Wisconsin, updated Nov. 10, 2020</td>\n",
              "      <td>https://www.washingtonpost.com/elections/elect...</td>\n",
              "      <td>0</td>\n",
              "      <td>0</td>\n",
              "    </tr>\n",
              "    <tr>\n",
              "      <th>95</th>\n",
              "      <td>“Joe Biden is no longer the President-elect ac...</td>\n",
              "      <td>The Washington Post, \"First CNN, then within m...</td>\n",
              "      <td>https://www.washingtonpost.com/media/2020/11/0...</td>\n",
              "      <td>0</td>\n",
              "      <td>0</td>\n",
              "    </tr>\n",
              "    <tr>\n",
              "      <th>141</th>\n",
              "      <td>Says The Washington Times ran a front-page hea...</td>\n",
              "      <td>New York Post, Trump campaign touts fake news ...</td>\n",
              "      <td>https://nypost.com/2020/11/09/trump-campaign-t...</td>\n",
              "      <td>0</td>\n",
              "      <td>0</td>\n",
              "    </tr>\n",
              "    <tr>\n",
              "      <th>148</th>\n",
              "      <td>Says a New York Post cover used the headline “...</td>\n",
              "      <td>New York Post cover, Nov. 4, 2020</td>\n",
              "      <td>https://nypost.com/cover/november-4-2020/</td>\n",
              "      <td>0</td>\n",
              "      <td>0</td>\n",
              "    </tr>\n",
              "    <tr>\n",
              "      <th>149</th>\n",
              "      <td>Says a New York Post cover used the headline “...</td>\n",
              "      <td>New York Post cover, Nov. 8, 2020</td>\n",
              "      <td>https://nypost.com/cover/november-8-2020/</td>\n",
              "      <td>0</td>\n",
              "      <td>0</td>\n",
              "    </tr>\n",
              "  </tbody>\n",
              "</table>\n",
              "</div>"
            ],
            "text/plain": [
              "                                                 Title  ... veracity\n",
              "26   A “system glitch” in Wisconsin that “swapped v...  ...        0\n",
              "95   “Joe Biden is no longer the President-elect ac...  ...        0\n",
              "141  Says The Washington Times ran a front-page hea...  ...        0\n",
              "148  Says a New York Post cover used the headline “...  ...        0\n",
              "149  Says a New York Post cover used the headline “...  ...        0\n",
              "\n",
              "[5 rows x 5 columns]"
            ]
          },
          "metadata": {
            "tags": []
          },
          "execution_count": 135
        }
      ]
    },
    {
      "cell_type": "markdown",
      "metadata": {
        "id": "zIgVrFZ8cz_u"
      },
      "source": [
        "Drop the columns that are not required."
      ]
    },
    {
      "cell_type": "code",
      "metadata": {
        "id": "ryN568Iwhg4L",
        "colab": {
          "base_uri": "https://localhost:8080/",
          "height": 204
        },
        "outputId": "dd0e7c02-4f61-49ea-fdf8-aeff67179d18"
      },
      "source": [
        "df_no_source = df_no_source.drop('Author', axis=1)\n",
        "df_no_source = df_no_source.drop('Author_Link', axis=1)\n",
        "df_no_source = df_no_source.rename(columns={'Title': 'title'})\n",
        "df_no_source.head()"
      ],
      "execution_count": null,
      "outputs": [
        {
          "output_type": "execute_result",
          "data": {
            "text/html": [
              "<div>\n",
              "<style scoped>\n",
              "    .dataframe tbody tr th:only-of-type {\n",
              "        vertical-align: middle;\n",
              "    }\n",
              "\n",
              "    .dataframe tbody tr th {\n",
              "        vertical-align: top;\n",
              "    }\n",
              "\n",
              "    .dataframe thead th {\n",
              "        text-align: right;\n",
              "    }\n",
              "</style>\n",
              "<table border=\"1\" class=\"dataframe\">\n",
              "  <thead>\n",
              "    <tr style=\"text-align: right;\">\n",
              "      <th></th>\n",
              "      <th>title</th>\n",
              "      <th>title_count</th>\n",
              "      <th>veracity</th>\n",
              "    </tr>\n",
              "  </thead>\n",
              "  <tbody>\n",
              "    <tr>\n",
              "      <th>26</th>\n",
              "      <td>A “system glitch” in Wisconsin that “swapped v...</td>\n",
              "      <td>0</td>\n",
              "      <td>0</td>\n",
              "    </tr>\n",
              "    <tr>\n",
              "      <th>95</th>\n",
              "      <td>“Joe Biden is no longer the President-elect ac...</td>\n",
              "      <td>0</td>\n",
              "      <td>0</td>\n",
              "    </tr>\n",
              "    <tr>\n",
              "      <th>141</th>\n",
              "      <td>Says The Washington Times ran a front-page hea...</td>\n",
              "      <td>0</td>\n",
              "      <td>0</td>\n",
              "    </tr>\n",
              "    <tr>\n",
              "      <th>148</th>\n",
              "      <td>Says a New York Post cover used the headline “...</td>\n",
              "      <td>0</td>\n",
              "      <td>0</td>\n",
              "    </tr>\n",
              "    <tr>\n",
              "      <th>149</th>\n",
              "      <td>Says a New York Post cover used the headline “...</td>\n",
              "      <td>0</td>\n",
              "      <td>0</td>\n",
              "    </tr>\n",
              "  </tbody>\n",
              "</table>\n",
              "</div>"
            ],
            "text/plain": [
              "                                                 title  title_count  veracity\n",
              "26   A “system glitch” in Wisconsin that “swapped v...            0         0\n",
              "95   “Joe Biden is no longer the President-elect ac...            0         0\n",
              "141  Says The Washington Times ran a front-page hea...            0         0\n",
              "148  Says a New York Post cover used the headline “...            0         0\n",
              "149  Says a New York Post cover used the headline “...            0         0"
            ]
          },
          "metadata": {
            "tags": []
          },
          "execution_count": 136
        }
      ]
    },
    {
      "cell_type": "markdown",
      "metadata": {
        "id": "lQ0bgFgSc6Qp"
      },
      "source": [
        "Group the records to count the number of avaialble resources"
      ]
    },
    {
      "cell_type": "code",
      "metadata": {
        "id": "SXTkQdNHoPEN"
      },
      "source": [
        "df_veracity = df_clean.groupby(df_clean.Title.tolist()).size().reset_index().\\\n",
        "    rename(columns={0:'title_count'})\n"
      ],
      "execution_count": null,
      "outputs": []
    },
    {
      "cell_type": "code",
      "metadata": {
        "id": "qe0F5XTDpG_d",
        "colab": {
          "base_uri": "https://localhost:8080/",
          "height": 204
        },
        "outputId": "0f04cda7-d29e-402b-b241-7cdff5b244a2"
      },
      "source": [
        "df_veracity.head()"
      ],
      "execution_count": null,
      "outputs": [
        {
          "output_type": "execute_result",
          "data": {
            "text/html": [
              "<div>\n",
              "<style scoped>\n",
              "    .dataframe tbody tr th:only-of-type {\n",
              "        vertical-align: middle;\n",
              "    }\n",
              "\n",
              "    .dataframe tbody tr th {\n",
              "        vertical-align: top;\n",
              "    }\n",
              "\n",
              "    .dataframe thead th {\n",
              "        text-align: right;\n",
              "    }\n",
              "</style>\n",
              "<table border=\"1\" class=\"dataframe\">\n",
              "  <thead>\n",
              "    <tr style=\"text-align: right;\">\n",
              "      <th></th>\n",
              "      <th>index</th>\n",
              "      <th>title_count</th>\n",
              "    </tr>\n",
              "  </thead>\n",
              "  <tbody>\n",
              "    <tr>\n",
              "      <th>0</th>\n",
              "      <td>\"California sends 440,000 ballots to ineligibl...</td>\n",
              "      <td>6</td>\n",
              "    </tr>\n",
              "    <tr>\n",
              "      <th>1</th>\n",
              "      <td>\"Deep RED cities are not boarding up\" and the ...</td>\n",
              "      <td>4</td>\n",
              "    </tr>\n",
              "    <tr>\n",
              "      <th>2</th>\n",
              "      <td>\"Generally the deaths are still pretty flat be...</td>\n",
              "      <td>2</td>\n",
              "    </tr>\n",
              "    <tr>\n",
              "      <th>3</th>\n",
              "      <td>\"Seven Milwaukee wards report more 2020 presid...</td>\n",
              "      <td>1</td>\n",
              "    </tr>\n",
              "    <tr>\n",
              "      <th>4</th>\n",
              "      <td>\"Six states can't get the votes counted. Six s...</td>\n",
              "      <td>7</td>\n",
              "    </tr>\n",
              "  </tbody>\n",
              "</table>\n",
              "</div>"
            ],
            "text/plain": [
              "                                               index  title_count\n",
              "0  \"California sends 440,000 ballots to ineligibl...            6\n",
              "1  \"Deep RED cities are not boarding up\" and the ...            4\n",
              "2  \"Generally the deaths are still pretty flat be...            2\n",
              "3  \"Seven Milwaukee wards report more 2020 presid...            1\n",
              "4  \"Six states can't get the votes counted. Six s...            7"
            ]
          },
          "metadata": {
            "tags": []
          },
          "execution_count": 138
        }
      ]
    },
    {
      "cell_type": "code",
      "metadata": {
        "id": "T_Vo76bMpRZI",
        "colab": {
          "base_uri": "https://localhost:8080/",
          "height": 204
        },
        "outputId": "be8d8be8-58ec-449d-8e82-4f417cb0649c"
      },
      "source": [
        "df_veracity = df_veracity.rename(columns={'index': 'title'})\n",
        "df_veracity.head()"
      ],
      "execution_count": null,
      "outputs": [
        {
          "output_type": "execute_result",
          "data": {
            "text/html": [
              "<div>\n",
              "<style scoped>\n",
              "    .dataframe tbody tr th:only-of-type {\n",
              "        vertical-align: middle;\n",
              "    }\n",
              "\n",
              "    .dataframe tbody tr th {\n",
              "        vertical-align: top;\n",
              "    }\n",
              "\n",
              "    .dataframe thead th {\n",
              "        text-align: right;\n",
              "    }\n",
              "</style>\n",
              "<table border=\"1\" class=\"dataframe\">\n",
              "  <thead>\n",
              "    <tr style=\"text-align: right;\">\n",
              "      <th></th>\n",
              "      <th>title</th>\n",
              "      <th>title_count</th>\n",
              "    </tr>\n",
              "  </thead>\n",
              "  <tbody>\n",
              "    <tr>\n",
              "      <th>0</th>\n",
              "      <td>\"California sends 440,000 ballots to ineligibl...</td>\n",
              "      <td>6</td>\n",
              "    </tr>\n",
              "    <tr>\n",
              "      <th>1</th>\n",
              "      <td>\"Deep RED cities are not boarding up\" and the ...</td>\n",
              "      <td>4</td>\n",
              "    </tr>\n",
              "    <tr>\n",
              "      <th>2</th>\n",
              "      <td>\"Generally the deaths are still pretty flat be...</td>\n",
              "      <td>2</td>\n",
              "    </tr>\n",
              "    <tr>\n",
              "      <th>3</th>\n",
              "      <td>\"Seven Milwaukee wards report more 2020 presid...</td>\n",
              "      <td>1</td>\n",
              "    </tr>\n",
              "    <tr>\n",
              "      <th>4</th>\n",
              "      <td>\"Six states can't get the votes counted. Six s...</td>\n",
              "      <td>7</td>\n",
              "    </tr>\n",
              "  </tbody>\n",
              "</table>\n",
              "</div>"
            ],
            "text/plain": [
              "                                               title  title_count\n",
              "0  \"California sends 440,000 ballots to ineligibl...            6\n",
              "1  \"Deep RED cities are not boarding up\" and the ...            4\n",
              "2  \"Generally the deaths are still pretty flat be...            2\n",
              "3  \"Seven Milwaukee wards report more 2020 presid...            1\n",
              "4  \"Six states can't get the votes counted. Six s...            7"
            ]
          },
          "metadata": {
            "tags": []
          },
          "execution_count": 139
        }
      ]
    },
    {
      "cell_type": "code",
      "metadata": {
        "id": "_5e-EvadjOEp",
        "colab": {
          "base_uri": "https://localhost:8080/"
        },
        "outputId": "e7292591-adca-4004-838f-1785e75e96e1"
      },
      "source": [
        "df_veracity.shape"
      ],
      "execution_count": null,
      "outputs": [
        {
          "output_type": "execute_result",
          "data": {
            "text/plain": [
              "(127, 2)"
            ]
          },
          "metadata": {
            "tags": []
          },
          "execution_count": 140
        }
      ]
    },
    {
      "cell_type": "code",
      "metadata": {
        "id": "RTw7ZewgsasO"
      },
      "source": [
        "#for index, row in df_veracity.iterrows():\n",
        "  #if(df_veracity['title_count'].index > 2):\n",
        "    #df_veracity['veracity'] = 1\n",
        "\n",
        "for index, row in df_veracity.iterrows():\n",
        "    if df_veracity.loc[index, 'title_count'] > 3:\n",
        "        df_veracity.loc[index,'veracity'] = 1\n",
        "    else:\n",
        "        df_veracity.loc[index,'veracity'] = 0"
      ],
      "execution_count": null,
      "outputs": []
    },
    {
      "cell_type": "code",
      "metadata": {
        "id": "oGt0ECawxq9F",
        "colab": {
          "base_uri": "https://localhost:8080/",
          "height": 204
        },
        "outputId": "6d7e558b-3ae8-404f-890e-4a40356b1072"
      },
      "source": [
        "df_veracity.head()"
      ],
      "execution_count": null,
      "outputs": [
        {
          "output_type": "execute_result",
          "data": {
            "text/html": [
              "<div>\n",
              "<style scoped>\n",
              "    .dataframe tbody tr th:only-of-type {\n",
              "        vertical-align: middle;\n",
              "    }\n",
              "\n",
              "    .dataframe tbody tr th {\n",
              "        vertical-align: top;\n",
              "    }\n",
              "\n",
              "    .dataframe thead th {\n",
              "        text-align: right;\n",
              "    }\n",
              "</style>\n",
              "<table border=\"1\" class=\"dataframe\">\n",
              "  <thead>\n",
              "    <tr style=\"text-align: right;\">\n",
              "      <th></th>\n",
              "      <th>title</th>\n",
              "      <th>title_count</th>\n",
              "      <th>veracity</th>\n",
              "    </tr>\n",
              "  </thead>\n",
              "  <tbody>\n",
              "    <tr>\n",
              "      <th>0</th>\n",
              "      <td>\"California sends 440,000 ballots to ineligibl...</td>\n",
              "      <td>6</td>\n",
              "      <td>1</td>\n",
              "    </tr>\n",
              "    <tr>\n",
              "      <th>1</th>\n",
              "      <td>\"Deep RED cities are not boarding up\" and the ...</td>\n",
              "      <td>4</td>\n",
              "      <td>1</td>\n",
              "    </tr>\n",
              "    <tr>\n",
              "      <th>2</th>\n",
              "      <td>\"Generally the deaths are still pretty flat be...</td>\n",
              "      <td>2</td>\n",
              "      <td>0</td>\n",
              "    </tr>\n",
              "    <tr>\n",
              "      <th>3</th>\n",
              "      <td>\"Seven Milwaukee wards report more 2020 presid...</td>\n",
              "      <td>1</td>\n",
              "      <td>0</td>\n",
              "    </tr>\n",
              "    <tr>\n",
              "      <th>4</th>\n",
              "      <td>\"Six states can't get the votes counted. Six s...</td>\n",
              "      <td>7</td>\n",
              "      <td>1</td>\n",
              "    </tr>\n",
              "  </tbody>\n",
              "</table>\n",
              "</div>"
            ],
            "text/plain": [
              "                                               title  title_count  veracity\n",
              "0  \"California sends 440,000 ballots to ineligibl...            6         1\n",
              "1  \"Deep RED cities are not boarding up\" and the ...            4         1\n",
              "2  \"Generally the deaths are still pretty flat be...            2         0\n",
              "3  \"Seven Milwaukee wards report more 2020 presid...            1         0\n",
              "4  \"Six states can't get the votes counted. Six s...            7         1"
            ]
          },
          "metadata": {
            "tags": []
          },
          "execution_count": 155
        }
      ]
    },
    {
      "cell_type": "code",
      "metadata": {
        "id": "JP_j7tsYBCWx"
      },
      "source": [
        "df_veracity = df_veracity.rename(columns={'veracity': 'veracity_one'})\n",
        "df_no_source = df_no_source.rename(columns={'veracity': 'veracity_zero'})\n",
        "df_veracity = df_veracity.rename(columns={'title_count': 'title_count_one'})\n",
        "df_no_source = df_no_source.rename(columns={'title_count': 'title_count_zero'})"
      ],
      "execution_count": null,
      "outputs": []
    },
    {
      "cell_type": "code",
      "metadata": {
        "id": "eWQU82m0BqAj"
      },
      "source": [
        "merged_results = pd.merge(df_veracity, df_no_source, on=\"title\", how=\"right\")"
      ],
      "execution_count": null,
      "outputs": []
    },
    {
      "cell_type": "code",
      "metadata": {
        "id": "izGVpAiECt8C",
        "colab": {
          "base_uri": "https://localhost:8080/",
          "height": 419
        },
        "outputId": "ac026740-4b10-4dfc-da40-197c3e7f03e4"
      },
      "source": [
        "merged_results"
      ],
      "execution_count": null,
      "outputs": [
        {
          "output_type": "execute_result",
          "data": {
            "text/html": [
              "<div>\n",
              "<style scoped>\n",
              "    .dataframe tbody tr th:only-of-type {\n",
              "        vertical-align: middle;\n",
              "    }\n",
              "\n",
              "    .dataframe tbody tr th {\n",
              "        vertical-align: top;\n",
              "    }\n",
              "\n",
              "    .dataframe thead th {\n",
              "        text-align: right;\n",
              "    }\n",
              "</style>\n",
              "<table border=\"1\" class=\"dataframe\">\n",
              "  <thead>\n",
              "    <tr style=\"text-align: right;\">\n",
              "      <th></th>\n",
              "      <th>title</th>\n",
              "      <th>title_count_one</th>\n",
              "      <th>veracity_one</th>\n",
              "      <th>title_count_zero</th>\n",
              "      <th>veracity_zero</th>\n",
              "    </tr>\n",
              "  </thead>\n",
              "  <tbody>\n",
              "    <tr>\n",
              "      <th>0</th>\n",
              "      <td>A “system glitch” in Wisconsin that “swapped v...</td>\n",
              "      <td>4.0</td>\n",
              "      <td>1.0</td>\n",
              "      <td>0</td>\n",
              "      <td>0</td>\n",
              "    </tr>\n",
              "    <tr>\n",
              "      <th>1</th>\n",
              "      <td>“Joe Biden is no longer the President-elect ac...</td>\n",
              "      <td>5.0</td>\n",
              "      <td>1.0</td>\n",
              "      <td>0</td>\n",
              "      <td>0</td>\n",
              "    </tr>\n",
              "    <tr>\n",
              "      <th>2</th>\n",
              "      <td>Says The Washington Times ran a front-page hea...</td>\n",
              "      <td>2.0</td>\n",
              "      <td>0.0</td>\n",
              "      <td>0</td>\n",
              "      <td>0</td>\n",
              "    </tr>\n",
              "    <tr>\n",
              "      <th>3</th>\n",
              "      <td>Says a New York Post cover used the headline “...</td>\n",
              "      <td>NaN</td>\n",
              "      <td>NaN</td>\n",
              "      <td>0</td>\n",
              "      <td>0</td>\n",
              "    </tr>\n",
              "    <tr>\n",
              "      <th>4</th>\n",
              "      <td>Says a New York Post cover used the headline “...</td>\n",
              "      <td>NaN</td>\n",
              "      <td>NaN</td>\n",
              "      <td>0</td>\n",
              "      <td>0</td>\n",
              "    </tr>\n",
              "    <tr>\n",
              "      <th>...</th>\n",
              "      <td>...</td>\n",
              "      <td>...</td>\n",
              "      <td>...</td>\n",
              "      <td>...</td>\n",
              "      <td>...</td>\n",
              "    </tr>\n",
              "    <tr>\n",
              "      <th>65</th>\n",
              "      <td>“Phony” ballots “were printed without my name ...</td>\n",
              "      <td>22.0</td>\n",
              "      <td>1.0</td>\n",
              "      <td>0</td>\n",
              "      <td>0</td>\n",
              "    </tr>\n",
              "    <tr>\n",
              "      <th>66</th>\n",
              "      <td>In the plot to kidnap Michigan Gov. Gretchen W...</td>\n",
              "      <td>20.0</td>\n",
              "      <td>1.0</td>\n",
              "      <td>0</td>\n",
              "      <td>0</td>\n",
              "    </tr>\n",
              "    <tr>\n",
              "      <th>67</th>\n",
              "      <td>In the plot to kidnap Michigan Gov. Gretchen W...</td>\n",
              "      <td>20.0</td>\n",
              "      <td>1.0</td>\n",
              "      <td>0</td>\n",
              "      <td>0</td>\n",
              "    </tr>\n",
              "    <tr>\n",
              "      <th>68</th>\n",
              "      <td>In the plot to kidnap Michigan Gov. Gretchen W...</td>\n",
              "      <td>20.0</td>\n",
              "      <td>1.0</td>\n",
              "      <td>0</td>\n",
              "      <td>0</td>\n",
              "    </tr>\n",
              "    <tr>\n",
              "      <th>69</th>\n",
              "      <td>In the plot to kidnap Michigan Gov. Gretchen W...</td>\n",
              "      <td>20.0</td>\n",
              "      <td>1.0</td>\n",
              "      <td>0</td>\n",
              "      <td>0</td>\n",
              "    </tr>\n",
              "  </tbody>\n",
              "</table>\n",
              "<p>70 rows × 5 columns</p>\n",
              "</div>"
            ],
            "text/plain": [
              "                                                title  ...  veracity_zero\n",
              "0   A “system glitch” in Wisconsin that “swapped v...  ...              0\n",
              "1   “Joe Biden is no longer the President-elect ac...  ...              0\n",
              "2   Says The Washington Times ran a front-page hea...  ...              0\n",
              "3   Says a New York Post cover used the headline “...  ...              0\n",
              "4   Says a New York Post cover used the headline “...  ...              0\n",
              "..                                                ...  ...            ...\n",
              "65  “Phony” ballots “were printed without my name ...  ...              0\n",
              "66  In the plot to kidnap Michigan Gov. Gretchen W...  ...              0\n",
              "67  In the plot to kidnap Michigan Gov. Gretchen W...  ...              0\n",
              "68  In the plot to kidnap Michigan Gov. Gretchen W...  ...              0\n",
              "69  In the plot to kidnap Michigan Gov. Gretchen W...  ...              0\n",
              "\n",
              "[70 rows x 5 columns]"
            ]
          },
          "metadata": {
            "tags": []
          },
          "execution_count": 164
        }
      ]
    },
    {
      "cell_type": "code",
      "metadata": {
        "id": "NWZQUoXfF3xv"
      },
      "source": [
        "merged_results = merged_results.rename(columns={'veracity_zero': 'veracity'})\n",
        "merged_results = merged_results.rename(columns={'title_count_one': 'title_count'})\n",
        "\n",
        "merged_results = merged_results.drop('veracity_one', axis=1)\n",
        "merged_results = merged_results.drop('title_count_zero', axis=1)"
      ],
      "execution_count": null,
      "outputs": []
    },
    {
      "cell_type": "code",
      "metadata": {
        "id": "LkPfMcTIGvsA",
        "colab": {
          "base_uri": "https://localhost:8080/",
          "height": 419
        },
        "outputId": "c11ba1af-29b8-4639-cc21-a8934ecae270"
      },
      "source": [
        "merged_results"
      ],
      "execution_count": null,
      "outputs": [
        {
          "output_type": "execute_result",
          "data": {
            "text/html": [
              "<div>\n",
              "<style scoped>\n",
              "    .dataframe tbody tr th:only-of-type {\n",
              "        vertical-align: middle;\n",
              "    }\n",
              "\n",
              "    .dataframe tbody tr th {\n",
              "        vertical-align: top;\n",
              "    }\n",
              "\n",
              "    .dataframe thead th {\n",
              "        text-align: right;\n",
              "    }\n",
              "</style>\n",
              "<table border=\"1\" class=\"dataframe\">\n",
              "  <thead>\n",
              "    <tr style=\"text-align: right;\">\n",
              "      <th></th>\n",
              "      <th>title</th>\n",
              "      <th>title_count</th>\n",
              "      <th>veracity</th>\n",
              "    </tr>\n",
              "  </thead>\n",
              "  <tbody>\n",
              "    <tr>\n",
              "      <th>0</th>\n",
              "      <td>A “system glitch” in Wisconsin that “swapped v...</td>\n",
              "      <td>4.0</td>\n",
              "      <td>0</td>\n",
              "    </tr>\n",
              "    <tr>\n",
              "      <th>1</th>\n",
              "      <td>“Joe Biden is no longer the President-elect ac...</td>\n",
              "      <td>5.0</td>\n",
              "      <td>0</td>\n",
              "    </tr>\n",
              "    <tr>\n",
              "      <th>2</th>\n",
              "      <td>Says The Washington Times ran a front-page hea...</td>\n",
              "      <td>2.0</td>\n",
              "      <td>0</td>\n",
              "    </tr>\n",
              "    <tr>\n",
              "      <th>3</th>\n",
              "      <td>Says a New York Post cover used the headline “...</td>\n",
              "      <td>NaN</td>\n",
              "      <td>0</td>\n",
              "    </tr>\n",
              "    <tr>\n",
              "      <th>4</th>\n",
              "      <td>Says a New York Post cover used the headline “...</td>\n",
              "      <td>NaN</td>\n",
              "      <td>0</td>\n",
              "    </tr>\n",
              "    <tr>\n",
              "      <th>...</th>\n",
              "      <td>...</td>\n",
              "      <td>...</td>\n",
              "      <td>...</td>\n",
              "    </tr>\n",
              "    <tr>\n",
              "      <th>65</th>\n",
              "      <td>“Phony” ballots “were printed without my name ...</td>\n",
              "      <td>22.0</td>\n",
              "      <td>0</td>\n",
              "    </tr>\n",
              "    <tr>\n",
              "      <th>66</th>\n",
              "      <td>In the plot to kidnap Michigan Gov. Gretchen W...</td>\n",
              "      <td>20.0</td>\n",
              "      <td>0</td>\n",
              "    </tr>\n",
              "    <tr>\n",
              "      <th>67</th>\n",
              "      <td>In the plot to kidnap Michigan Gov. Gretchen W...</td>\n",
              "      <td>20.0</td>\n",
              "      <td>0</td>\n",
              "    </tr>\n",
              "    <tr>\n",
              "      <th>68</th>\n",
              "      <td>In the plot to kidnap Michigan Gov. Gretchen W...</td>\n",
              "      <td>20.0</td>\n",
              "      <td>0</td>\n",
              "    </tr>\n",
              "    <tr>\n",
              "      <th>69</th>\n",
              "      <td>In the plot to kidnap Michigan Gov. Gretchen W...</td>\n",
              "      <td>20.0</td>\n",
              "      <td>0</td>\n",
              "    </tr>\n",
              "  </tbody>\n",
              "</table>\n",
              "<p>70 rows × 3 columns</p>\n",
              "</div>"
            ],
            "text/plain": [
              "                                                title  title_count  veracity\n",
              "0   A “system glitch” in Wisconsin that “swapped v...          4.0         0\n",
              "1   “Joe Biden is no longer the President-elect ac...          5.0         0\n",
              "2   Says The Washington Times ran a front-page hea...          2.0         0\n",
              "3   Says a New York Post cover used the headline “...          NaN         0\n",
              "4   Says a New York Post cover used the headline “...          NaN         0\n",
              "..                                                ...          ...       ...\n",
              "65  “Phony” ballots “were printed without my name ...         22.0         0\n",
              "66  In the plot to kidnap Michigan Gov. Gretchen W...         20.0         0\n",
              "67  In the plot to kidnap Michigan Gov. Gretchen W...         20.0         0\n",
              "68  In the plot to kidnap Michigan Gov. Gretchen W...         20.0         0\n",
              "69  In the plot to kidnap Michigan Gov. Gretchen W...         20.0         0\n",
              "\n",
              "[70 rows x 3 columns]"
            ]
          },
          "metadata": {
            "tags": []
          },
          "execution_count": 166
        }
      ]
    },
    {
      "cell_type": "code",
      "metadata": {
        "id": "lSZsmJ3JIKRh",
        "colab": {
          "base_uri": "https://localhost:8080/",
          "height": 419
        },
        "outputId": "bb1df381-5551-4410-93af-296e96989178"
      },
      "source": [
        "df_veracity"
      ],
      "execution_count": null,
      "outputs": [
        {
          "output_type": "execute_result",
          "data": {
            "text/html": [
              "<div>\n",
              "<style scoped>\n",
              "    .dataframe tbody tr th:only-of-type {\n",
              "        vertical-align: middle;\n",
              "    }\n",
              "\n",
              "    .dataframe tbody tr th {\n",
              "        vertical-align: top;\n",
              "    }\n",
              "\n",
              "    .dataframe thead th {\n",
              "        text-align: right;\n",
              "    }\n",
              "</style>\n",
              "<table border=\"1\" class=\"dataframe\">\n",
              "  <thead>\n",
              "    <tr style=\"text-align: right;\">\n",
              "      <th></th>\n",
              "      <th>title</th>\n",
              "      <th>title_count_one</th>\n",
              "      <th>veracity_one</th>\n",
              "    </tr>\n",
              "  </thead>\n",
              "  <tbody>\n",
              "    <tr>\n",
              "      <th>0</th>\n",
              "      <td>\"California sends 440,000 ballots to ineligibl...</td>\n",
              "      <td>6</td>\n",
              "      <td>1</td>\n",
              "    </tr>\n",
              "    <tr>\n",
              "      <th>1</th>\n",
              "      <td>\"Deep RED cities are not boarding up\" and the ...</td>\n",
              "      <td>4</td>\n",
              "      <td>1</td>\n",
              "    </tr>\n",
              "    <tr>\n",
              "      <th>2</th>\n",
              "      <td>\"Generally the deaths are still pretty flat be...</td>\n",
              "      <td>2</td>\n",
              "      <td>0</td>\n",
              "    </tr>\n",
              "    <tr>\n",
              "      <th>3</th>\n",
              "      <td>\"Seven Milwaukee wards report more 2020 presid...</td>\n",
              "      <td>1</td>\n",
              "      <td>0</td>\n",
              "    </tr>\n",
              "    <tr>\n",
              "      <th>4</th>\n",
              "      <td>\"Six states can't get the votes counted. Six s...</td>\n",
              "      <td>7</td>\n",
              "      <td>1</td>\n",
              "    </tr>\n",
              "    <tr>\n",
              "      <th>...</th>\n",
              "      <td>...</td>\n",
              "      <td>...</td>\n",
              "      <td>...</td>\n",
              "    </tr>\n",
              "    <tr>\n",
              "      <th>122</th>\n",
              "      <td>“When I closed (travel from China) he said I s...</td>\n",
              "      <td>2</td>\n",
              "      <td>0</td>\n",
              "    </tr>\n",
              "    <tr>\n",
              "      <th>123</th>\n",
              "      <td>“When large numbers of people in Butler (Pa.) ...</td>\n",
              "      <td>7</td>\n",
              "      <td>1</td>\n",
              "    </tr>\n",
              "    <tr>\n",
              "      <th>124</th>\n",
              "      <td>“While serving as Town Supervisor, Nate McMurr...</td>\n",
              "      <td>8</td>\n",
              "      <td>1</td>\n",
              "    </tr>\n",
              "    <tr>\n",
              "      <th>125</th>\n",
              "      <td>“Wisconsin has more votes than people who are ...</td>\n",
              "      <td>2</td>\n",
              "      <td>0</td>\n",
              "    </tr>\n",
              "    <tr>\n",
              "      <th>126</th>\n",
              "      <td>“Wisconsin took a break, and when they returne...</td>\n",
              "      <td>5</td>\n",
              "      <td>1</td>\n",
              "    </tr>\n",
              "  </tbody>\n",
              "</table>\n",
              "<p>127 rows × 3 columns</p>\n",
              "</div>"
            ],
            "text/plain": [
              "                                                 title  ...  veracity_one\n",
              "0    \"California sends 440,000 ballots to ineligibl...  ...             1\n",
              "1    \"Deep RED cities are not boarding up\" and the ...  ...             1\n",
              "2    \"Generally the deaths are still pretty flat be...  ...             0\n",
              "3    \"Seven Milwaukee wards report more 2020 presid...  ...             0\n",
              "4    \"Six states can't get the votes counted. Six s...  ...             1\n",
              "..                                                 ...  ...           ...\n",
              "122  “When I closed (travel from China) he said I s...  ...             0\n",
              "123  “When large numbers of people in Butler (Pa.) ...  ...             1\n",
              "124  “While serving as Town Supervisor, Nate McMurr...  ...             1\n",
              "125  “Wisconsin has more votes than people who are ...  ...             0\n",
              "126  “Wisconsin took a break, and when they returne...  ...             1\n",
              "\n",
              "[127 rows x 3 columns]"
            ]
          },
          "metadata": {
            "tags": []
          },
          "execution_count": 167
        }
      ]
    },
    {
      "cell_type": "code",
      "metadata": {
        "id": "OY057MbDIT1X"
      },
      "source": [
        "df_veracity = df_veracity.rename(columns={'veracity_one': 'veracity'})\n",
        "df_veracity = df_veracity.rename(columns={'title_count_one': 'title_count'})"
      ],
      "execution_count": null,
      "outputs": []
    },
    {
      "cell_type": "code",
      "metadata": {
        "id": "PYn5oy8CIf4C",
        "colab": {
          "base_uri": "https://localhost:8080/",
          "height": 419
        },
        "outputId": "87a46958-8655-4b35-9122-d395c6fef3a5"
      },
      "source": [
        "df_veracity"
      ],
      "execution_count": null,
      "outputs": [
        {
          "output_type": "execute_result",
          "data": {
            "text/html": [
              "<div>\n",
              "<style scoped>\n",
              "    .dataframe tbody tr th:only-of-type {\n",
              "        vertical-align: middle;\n",
              "    }\n",
              "\n",
              "    .dataframe tbody tr th {\n",
              "        vertical-align: top;\n",
              "    }\n",
              "\n",
              "    .dataframe thead th {\n",
              "        text-align: right;\n",
              "    }\n",
              "</style>\n",
              "<table border=\"1\" class=\"dataframe\">\n",
              "  <thead>\n",
              "    <tr style=\"text-align: right;\">\n",
              "      <th></th>\n",
              "      <th>title</th>\n",
              "      <th>title_count</th>\n",
              "      <th>veracity</th>\n",
              "    </tr>\n",
              "  </thead>\n",
              "  <tbody>\n",
              "    <tr>\n",
              "      <th>0</th>\n",
              "      <td>\"California sends 440,000 ballots to ineligibl...</td>\n",
              "      <td>6</td>\n",
              "      <td>1</td>\n",
              "    </tr>\n",
              "    <tr>\n",
              "      <th>1</th>\n",
              "      <td>\"Deep RED cities are not boarding up\" and the ...</td>\n",
              "      <td>4</td>\n",
              "      <td>1</td>\n",
              "    </tr>\n",
              "    <tr>\n",
              "      <th>2</th>\n",
              "      <td>\"Generally the deaths are still pretty flat be...</td>\n",
              "      <td>2</td>\n",
              "      <td>0</td>\n",
              "    </tr>\n",
              "    <tr>\n",
              "      <th>3</th>\n",
              "      <td>\"Seven Milwaukee wards report more 2020 presid...</td>\n",
              "      <td>1</td>\n",
              "      <td>0</td>\n",
              "    </tr>\n",
              "    <tr>\n",
              "      <th>4</th>\n",
              "      <td>\"Six states can't get the votes counted. Six s...</td>\n",
              "      <td>7</td>\n",
              "      <td>1</td>\n",
              "    </tr>\n",
              "    <tr>\n",
              "      <th>...</th>\n",
              "      <td>...</td>\n",
              "      <td>...</td>\n",
              "      <td>...</td>\n",
              "    </tr>\n",
              "    <tr>\n",
              "      <th>122</th>\n",
              "      <td>“When I closed (travel from China) he said I s...</td>\n",
              "      <td>2</td>\n",
              "      <td>0</td>\n",
              "    </tr>\n",
              "    <tr>\n",
              "      <th>123</th>\n",
              "      <td>“When large numbers of people in Butler (Pa.) ...</td>\n",
              "      <td>7</td>\n",
              "      <td>1</td>\n",
              "    </tr>\n",
              "    <tr>\n",
              "      <th>124</th>\n",
              "      <td>“While serving as Town Supervisor, Nate McMurr...</td>\n",
              "      <td>8</td>\n",
              "      <td>1</td>\n",
              "    </tr>\n",
              "    <tr>\n",
              "      <th>125</th>\n",
              "      <td>“Wisconsin has more votes than people who are ...</td>\n",
              "      <td>2</td>\n",
              "      <td>0</td>\n",
              "    </tr>\n",
              "    <tr>\n",
              "      <th>126</th>\n",
              "      <td>“Wisconsin took a break, and when they returne...</td>\n",
              "      <td>5</td>\n",
              "      <td>1</td>\n",
              "    </tr>\n",
              "  </tbody>\n",
              "</table>\n",
              "<p>127 rows × 3 columns</p>\n",
              "</div>"
            ],
            "text/plain": [
              "                                                 title  title_count  veracity\n",
              "0    \"California sends 440,000 ballots to ineligibl...            6         1\n",
              "1    \"Deep RED cities are not boarding up\" and the ...            4         1\n",
              "2    \"Generally the deaths are still pretty flat be...            2         0\n",
              "3    \"Seven Milwaukee wards report more 2020 presid...            1         0\n",
              "4    \"Six states can't get the votes counted. Six s...            7         1\n",
              "..                                                 ...          ...       ...\n",
              "122  “When I closed (travel from China) he said I s...            2         0\n",
              "123  “When large numbers of people in Butler (Pa.) ...            7         1\n",
              "124  “While serving as Town Supervisor, Nate McMurr...            8         1\n",
              "125  “Wisconsin has more votes than people who are ...            2         0\n",
              "126  “Wisconsin took a break, and when they returne...            5         1\n",
              "\n",
              "[127 rows x 3 columns]"
            ]
          },
          "metadata": {
            "tags": []
          },
          "execution_count": 190
        }
      ]
    },
    {
      "cell_type": "code",
      "metadata": {
        "id": "B8ul6GnzHTnN"
      },
      "source": [
        "df_final = merged_results.append(df_veracity[['title', 'title_count', 'veracity']])"
      ],
      "execution_count": null,
      "outputs": []
    },
    {
      "cell_type": "code",
      "metadata": {
        "id": "Fm_gcx9DHZTk",
        "colab": {
          "base_uri": "https://localhost:8080/",
          "height": 419
        },
        "outputId": "0656184a-545c-4c1a-d887-ca140d61ea7b"
      },
      "source": [
        "df_final"
      ],
      "execution_count": null,
      "outputs": [
        {
          "output_type": "execute_result",
          "data": {
            "text/html": [
              "<div>\n",
              "<style scoped>\n",
              "    .dataframe tbody tr th:only-of-type {\n",
              "        vertical-align: middle;\n",
              "    }\n",
              "\n",
              "    .dataframe tbody tr th {\n",
              "        vertical-align: top;\n",
              "    }\n",
              "\n",
              "    .dataframe thead th {\n",
              "        text-align: right;\n",
              "    }\n",
              "</style>\n",
              "<table border=\"1\" class=\"dataframe\">\n",
              "  <thead>\n",
              "    <tr style=\"text-align: right;\">\n",
              "      <th></th>\n",
              "      <th>title</th>\n",
              "      <th>title_count</th>\n",
              "      <th>veracity</th>\n",
              "    </tr>\n",
              "  </thead>\n",
              "  <tbody>\n",
              "    <tr>\n",
              "      <th>0</th>\n",
              "      <td>A “system glitch” in Wisconsin that “swapped v...</td>\n",
              "      <td>4.0</td>\n",
              "      <td>0</td>\n",
              "    </tr>\n",
              "    <tr>\n",
              "      <th>1</th>\n",
              "      <td>“Joe Biden is no longer the President-elect ac...</td>\n",
              "      <td>5.0</td>\n",
              "      <td>0</td>\n",
              "    </tr>\n",
              "    <tr>\n",
              "      <th>2</th>\n",
              "      <td>Says The Washington Times ran a front-page hea...</td>\n",
              "      <td>2.0</td>\n",
              "      <td>0</td>\n",
              "    </tr>\n",
              "    <tr>\n",
              "      <th>3</th>\n",
              "      <td>Says a New York Post cover used the headline “...</td>\n",
              "      <td>NaN</td>\n",
              "      <td>0</td>\n",
              "    </tr>\n",
              "    <tr>\n",
              "      <th>4</th>\n",
              "      <td>Says a New York Post cover used the headline “...</td>\n",
              "      <td>NaN</td>\n",
              "      <td>0</td>\n",
              "    </tr>\n",
              "    <tr>\n",
              "      <th>...</th>\n",
              "      <td>...</td>\n",
              "      <td>...</td>\n",
              "      <td>...</td>\n",
              "    </tr>\n",
              "    <tr>\n",
              "      <th>122</th>\n",
              "      <td>“When I closed (travel from China) he said I s...</td>\n",
              "      <td>2.0</td>\n",
              "      <td>0</td>\n",
              "    </tr>\n",
              "    <tr>\n",
              "      <th>123</th>\n",
              "      <td>“When large numbers of people in Butler (Pa.) ...</td>\n",
              "      <td>7.0</td>\n",
              "      <td>1</td>\n",
              "    </tr>\n",
              "    <tr>\n",
              "      <th>124</th>\n",
              "      <td>“While serving as Town Supervisor, Nate McMurr...</td>\n",
              "      <td>8.0</td>\n",
              "      <td>1</td>\n",
              "    </tr>\n",
              "    <tr>\n",
              "      <th>125</th>\n",
              "      <td>“Wisconsin has more votes than people who are ...</td>\n",
              "      <td>2.0</td>\n",
              "      <td>0</td>\n",
              "    </tr>\n",
              "    <tr>\n",
              "      <th>126</th>\n",
              "      <td>“Wisconsin took a break, and when they returne...</td>\n",
              "      <td>5.0</td>\n",
              "      <td>1</td>\n",
              "    </tr>\n",
              "  </tbody>\n",
              "</table>\n",
              "<p>197 rows × 3 columns</p>\n",
              "</div>"
            ],
            "text/plain": [
              "                                                 title  title_count  veracity\n",
              "0    A “system glitch” in Wisconsin that “swapped v...          4.0         0\n",
              "1    “Joe Biden is no longer the President-elect ac...          5.0         0\n",
              "2    Says The Washington Times ran a front-page hea...          2.0         0\n",
              "3    Says a New York Post cover used the headline “...          NaN         0\n",
              "4    Says a New York Post cover used the headline “...          NaN         0\n",
              "..                                                 ...          ...       ...\n",
              "122  “When I closed (travel from China) he said I s...          2.0         0\n",
              "123  “When large numbers of people in Butler (Pa.) ...          7.0         1\n",
              "124  “While serving as Town Supervisor, Nate McMurr...          8.0         1\n",
              "125  “Wisconsin has more votes than people who are ...          2.0         0\n",
              "126  “Wisconsin took a break, and when they returne...          5.0         1\n",
              "\n",
              "[197 rows x 3 columns]"
            ]
          },
          "metadata": {
            "tags": []
          },
          "execution_count": 192
        }
      ]
    },
    {
      "cell_type": "code",
      "metadata": {
        "id": "dERudUtltTG6"
      },
      "source": [
        "df_final = df_final.sort_values(by='veracity', ascending=True)\n",
        "df_final = df_final.drop_duplicates(subset='title', keep=\"first\")"
      ],
      "execution_count": null,
      "outputs": []
    },
    {
      "cell_type": "code",
      "metadata": {
        "id": "TP-plEkht_mO",
        "colab": {
          "base_uri": "https://localhost:8080/",
          "height": 419
        },
        "outputId": "71a84326-3053-46b3-c44a-892e6c9c1a11"
      },
      "source": [
        "df_final"
      ],
      "execution_count": null,
      "outputs": [
        {
          "output_type": "execute_result",
          "data": {
            "text/html": [
              "<div>\n",
              "<style scoped>\n",
              "    .dataframe tbody tr th:only-of-type {\n",
              "        vertical-align: middle;\n",
              "    }\n",
              "\n",
              "    .dataframe tbody tr th {\n",
              "        vertical-align: top;\n",
              "    }\n",
              "\n",
              "    .dataframe thead th {\n",
              "        text-align: right;\n",
              "    }\n",
              "</style>\n",
              "<table border=\"1\" class=\"dataframe\">\n",
              "  <thead>\n",
              "    <tr style=\"text-align: right;\">\n",
              "      <th></th>\n",
              "      <th>title</th>\n",
              "      <th>title_count</th>\n",
              "      <th>veracity</th>\n",
              "    </tr>\n",
              "  </thead>\n",
              "  <tbody>\n",
              "    <tr>\n",
              "      <th>0</th>\n",
              "      <td>A “system glitch” in Wisconsin that “swapped v...</td>\n",
              "      <td>4.0</td>\n",
              "      <td>0</td>\n",
              "    </tr>\n",
              "    <tr>\n",
              "      <th>31</th>\n",
              "      <td>More mail-in ballots were counted in Lancaster...</td>\n",
              "      <td>1.0</td>\n",
              "      <td>0</td>\n",
              "    </tr>\n",
              "    <tr>\n",
              "      <th>29</th>\n",
              "      <td>Kamala Harris’ husband said, “I am married to ...</td>\n",
              "      <td>2.0</td>\n",
              "      <td>0</td>\n",
              "    </tr>\n",
              "    <tr>\n",
              "      <th>125</th>\n",
              "      <td>“Wisconsin has more votes than people who are ...</td>\n",
              "      <td>2.0</td>\n",
              "      <td>0</td>\n",
              "    </tr>\n",
              "    <tr>\n",
              "      <th>112</th>\n",
              "      <td>“The NAACP has received credible information t...</td>\n",
              "      <td>1.0</td>\n",
              "      <td>0</td>\n",
              "    </tr>\n",
              "    <tr>\n",
              "      <th>...</th>\n",
              "      <td>...</td>\n",
              "      <td>...</td>\n",
              "      <td>...</td>\n",
              "    </tr>\n",
              "    <tr>\n",
              "      <th>59</th>\n",
              "      <td>Says Joe Biden said “Why am I doing this? Why?...</td>\n",
              "      <td>4.0</td>\n",
              "      <td>1</td>\n",
              "    </tr>\n",
              "    <tr>\n",
              "      <th>58</th>\n",
              "      <td>Says Joe Biden repeatedly told Americans he's ...</td>\n",
              "      <td>20.0</td>\n",
              "      <td>1</td>\n",
              "    </tr>\n",
              "    <tr>\n",
              "      <th>57</th>\n",
              "      <td>Says Joe Biden received a sudden influx of 138...</td>\n",
              "      <td>5.0</td>\n",
              "      <td>1</td>\n",
              "    </tr>\n",
              "    <tr>\n",
              "      <th>52</th>\n",
              "      <td>Says Donald Trump “is pushing to slash Medicar...</td>\n",
              "      <td>18.0</td>\n",
              "      <td>1</td>\n",
              "    </tr>\n",
              "    <tr>\n",
              "      <th>126</th>\n",
              "      <td>“Wisconsin took a break, and when they returne...</td>\n",
              "      <td>5.0</td>\n",
              "      <td>1</td>\n",
              "    </tr>\n",
              "  </tbody>\n",
              "</table>\n",
              "<p>132 rows × 3 columns</p>\n",
              "</div>"
            ],
            "text/plain": [
              "                                                 title  title_count  veracity\n",
              "0    A “system glitch” in Wisconsin that “swapped v...          4.0         0\n",
              "31   More mail-in ballots were counted in Lancaster...          1.0         0\n",
              "29   Kamala Harris’ husband said, “I am married to ...          2.0         0\n",
              "125  “Wisconsin has more votes than people who are ...          2.0         0\n",
              "112  “The NAACP has received credible information t...          1.0         0\n",
              "..                                                 ...          ...       ...\n",
              "59   Says Joe Biden said “Why am I doing this? Why?...          4.0         1\n",
              "58   Says Joe Biden repeatedly told Americans he's ...         20.0         1\n",
              "57   Says Joe Biden received a sudden influx of 138...          5.0         1\n",
              "52   Says Donald Trump “is pushing to slash Medicar...         18.0         1\n",
              "126  “Wisconsin took a break, and when they returne...          5.0         1\n",
              "\n",
              "[132 rows x 3 columns]"
            ]
          },
          "metadata": {
            "tags": []
          },
          "execution_count": 194
        }
      ]
    },
    {
      "cell_type": "code",
      "metadata": {
        "id": "-r1iKyTy8STt",
        "colab": {
          "base_uri": "https://localhost:8080/"
        },
        "outputId": "9963ec2c-46cb-4af7-bfe6-e505e3555b62"
      },
      "source": [
        "df_final.isnull().values.sum()"
      ],
      "execution_count": null,
      "outputs": [
        {
          "output_type": "execute_result",
          "data": {
            "text/plain": [
              "5"
            ]
          },
          "metadata": {
            "tags": []
          },
          "execution_count": 195
        }
      ]
    },
    {
      "cell_type": "code",
      "metadata": {
        "id": "8qJdbVzJ8nrY"
      },
      "source": [
        "df_final = df_final.dropna(how='any',axis=0) "
      ],
      "execution_count": null,
      "outputs": []
    },
    {
      "cell_type": "code",
      "metadata": {
        "id": "SpnjV34VuojR",
        "colab": {
          "base_uri": "https://localhost:8080/"
        },
        "outputId": "9a5b4230-e987-4c6a-9b12-3a3af33cdb65"
      },
      "source": [
        "df_final.shape"
      ],
      "execution_count": null,
      "outputs": [
        {
          "output_type": "execute_result",
          "data": {
            "text/plain": [
              "(127, 3)"
            ]
          },
          "metadata": {
            "tags": []
          },
          "execution_count": 197
        }
      ]
    },
    {
      "cell_type": "code",
      "metadata": {
        "id": "tCI-emAz2ZhN"
      },
      "source": [
        "df_final.to_csv('Veracity.csv')"
      ],
      "execution_count": null,
      "outputs": []
    },
    {
      "cell_type": "code",
      "metadata": {
        "id": "RRAs7u5ZnH06"
      },
      "source": [
        "df_last = pd.read_csv('Veracity.csv')"
      ],
      "execution_count": null,
      "outputs": []
    },
    {
      "cell_type": "code",
      "metadata": {
        "id": "ULuyMCfIAf8f",
        "colab": {
          "base_uri": "https://localhost:8080/",
          "height": 204
        },
        "outputId": "c72ce805-dbbd-4fa2-c006-355109b6195c"
      },
      "source": [
        "df_last.head()"
      ],
      "execution_count": null,
      "outputs": [
        {
          "output_type": "execute_result",
          "data": {
            "text/html": [
              "<div>\n",
              "<style scoped>\n",
              "    .dataframe tbody tr th:only-of-type {\n",
              "        vertical-align: middle;\n",
              "    }\n",
              "\n",
              "    .dataframe tbody tr th {\n",
              "        vertical-align: top;\n",
              "    }\n",
              "\n",
              "    .dataframe thead th {\n",
              "        text-align: right;\n",
              "    }\n",
              "</style>\n",
              "<table border=\"1\" class=\"dataframe\">\n",
              "  <thead>\n",
              "    <tr style=\"text-align: right;\">\n",
              "      <th></th>\n",
              "      <th>Unnamed: 0</th>\n",
              "      <th>title</th>\n",
              "      <th>title_count</th>\n",
              "      <th>veracity</th>\n",
              "    </tr>\n",
              "  </thead>\n",
              "  <tbody>\n",
              "    <tr>\n",
              "      <th>0</th>\n",
              "      <td>0</td>\n",
              "      <td>A “system glitch” in Wisconsin that “swapped v...</td>\n",
              "      <td>4.0</td>\n",
              "      <td>0</td>\n",
              "    </tr>\n",
              "    <tr>\n",
              "      <th>1</th>\n",
              "      <td>31</td>\n",
              "      <td>More mail-in ballots were counted in Lancaster...</td>\n",
              "      <td>1.0</td>\n",
              "      <td>0</td>\n",
              "    </tr>\n",
              "    <tr>\n",
              "      <th>2</th>\n",
              "      <td>29</td>\n",
              "      <td>Kamala Harris’ husband said, “I am married to ...</td>\n",
              "      <td>2.0</td>\n",
              "      <td>0</td>\n",
              "    </tr>\n",
              "    <tr>\n",
              "      <th>3</th>\n",
              "      <td>125</td>\n",
              "      <td>“Wisconsin has more votes than people who are ...</td>\n",
              "      <td>2.0</td>\n",
              "      <td>0</td>\n",
              "    </tr>\n",
              "    <tr>\n",
              "      <th>4</th>\n",
              "      <td>112</td>\n",
              "      <td>“The NAACP has received credible information t...</td>\n",
              "      <td>1.0</td>\n",
              "      <td>0</td>\n",
              "    </tr>\n",
              "  </tbody>\n",
              "</table>\n",
              "</div>"
            ],
            "text/plain": [
              "   Unnamed: 0  ... veracity\n",
              "0           0  ...        0\n",
              "1          31  ...        0\n",
              "2          29  ...        0\n",
              "3         125  ...        0\n",
              "4         112  ...        0\n",
              "\n",
              "[5 rows x 4 columns]"
            ]
          },
          "metadata": {
            "tags": []
          },
          "execution_count": 202
        }
      ]
    },
    {
      "cell_type": "code",
      "metadata": {
        "id": "6h7ImdJZAvk_"
      },
      "source": [
        "df_last = df_last.drop(df_last.columns[[0]], axis=1)"
      ],
      "execution_count": null,
      "outputs": []
    },
    {
      "cell_type": "code",
      "metadata": {
        "id": "3w9qQFxgA1Fq",
        "colab": {
          "base_uri": "https://localhost:8080/",
          "height": 204
        },
        "outputId": "24d414a5-7e9c-4235-b8b7-f1d9d089fea6"
      },
      "source": [
        "df_last.head()"
      ],
      "execution_count": null,
      "outputs": [
        {
          "output_type": "execute_result",
          "data": {
            "text/html": [
              "<div>\n",
              "<style scoped>\n",
              "    .dataframe tbody tr th:only-of-type {\n",
              "        vertical-align: middle;\n",
              "    }\n",
              "\n",
              "    .dataframe tbody tr th {\n",
              "        vertical-align: top;\n",
              "    }\n",
              "\n",
              "    .dataframe thead th {\n",
              "        text-align: right;\n",
              "    }\n",
              "</style>\n",
              "<table border=\"1\" class=\"dataframe\">\n",
              "  <thead>\n",
              "    <tr style=\"text-align: right;\">\n",
              "      <th></th>\n",
              "      <th>title</th>\n",
              "      <th>title_count</th>\n",
              "      <th>veracity</th>\n",
              "    </tr>\n",
              "  </thead>\n",
              "  <tbody>\n",
              "    <tr>\n",
              "      <th>0</th>\n",
              "      <td>A “system glitch” in Wisconsin that “swapped v...</td>\n",
              "      <td>4.0</td>\n",
              "      <td>0</td>\n",
              "    </tr>\n",
              "    <tr>\n",
              "      <th>1</th>\n",
              "      <td>More mail-in ballots were counted in Lancaster...</td>\n",
              "      <td>1.0</td>\n",
              "      <td>0</td>\n",
              "    </tr>\n",
              "    <tr>\n",
              "      <th>2</th>\n",
              "      <td>Kamala Harris’ husband said, “I am married to ...</td>\n",
              "      <td>2.0</td>\n",
              "      <td>0</td>\n",
              "    </tr>\n",
              "    <tr>\n",
              "      <th>3</th>\n",
              "      <td>“Wisconsin has more votes than people who are ...</td>\n",
              "      <td>2.0</td>\n",
              "      <td>0</td>\n",
              "    </tr>\n",
              "    <tr>\n",
              "      <th>4</th>\n",
              "      <td>“The NAACP has received credible information t...</td>\n",
              "      <td>1.0</td>\n",
              "      <td>0</td>\n",
              "    </tr>\n",
              "  </tbody>\n",
              "</table>\n",
              "</div>"
            ],
            "text/plain": [
              "                                               title  title_count  veracity\n",
              "0  A “system glitch” in Wisconsin that “swapped v...          4.0         0\n",
              "1  More mail-in ballots were counted in Lancaster...          1.0         0\n",
              "2  Kamala Harris’ husband said, “I am married to ...          2.0         0\n",
              "3  “Wisconsin has more votes than people who are ...          2.0         0\n",
              "4  “The NAACP has received credible information t...          1.0         0"
            ]
          },
          "metadata": {
            "tags": []
          },
          "execution_count": 204
        }
      ]
    },
    {
      "cell_type": "code",
      "metadata": {
        "id": "kxxqzHe6A478",
        "colab": {
          "base_uri": "https://localhost:8080/"
        },
        "outputId": "7d935f98-ba20-4572-9fea-5b97f8a7b3ef"
      },
      "source": [
        "df_last.shape"
      ],
      "execution_count": null,
      "outputs": [
        {
          "output_type": "execute_result",
          "data": {
            "text/plain": [
              "(127, 3)"
            ]
          },
          "metadata": {
            "tags": []
          },
          "execution_count": 205
        }
      ]
    },
    {
      "cell_type": "code",
      "metadata": {
        "id": "hS8NnE9FA_xj"
      },
      "source": [
        "df_last = df_last.rename(columns={'Statement': 'title'})"
      ],
      "execution_count": null,
      "outputs": []
    },
    {
      "cell_type": "code",
      "metadata": {
        "id": "8h8GV3W_wccD"
      },
      "source": [
        "df_posts = pd.read_csv('NEWS.csv')"
      ],
      "execution_count": null,
      "outputs": []
    },
    {
      "cell_type": "code",
      "metadata": {
        "id": "ufq8zf9fBG2c",
        "colab": {
          "base_uri": "https://localhost:8080/",
          "height": 306
        },
        "outputId": "28db55fe-83ef-4dde-d9ef-0f78354f4bb6"
      },
      "source": [
        "df_posts.head()"
      ],
      "execution_count": null,
      "outputs": [
        {
          "output_type": "execute_result",
          "data": {
            "text/html": [
              "<div>\n",
              "<style scoped>\n",
              "    .dataframe tbody tr th:only-of-type {\n",
              "        vertical-align: middle;\n",
              "    }\n",
              "\n",
              "    .dataframe tbody tr th {\n",
              "        vertical-align: top;\n",
              "    }\n",
              "\n",
              "    .dataframe thead th {\n",
              "        text-align: right;\n",
              "    }\n",
              "</style>\n",
              "<table border=\"1\" class=\"dataframe\">\n",
              "  <thead>\n",
              "    <tr style=\"text-align: right;\">\n",
              "      <th></th>\n",
              "      <th>Unnamed: 0</th>\n",
              "      <th>Statement</th>\n",
              "      <th>Link</th>\n",
              "      <th>Date</th>\n",
              "      <th>Source</th>\n",
              "      <th>Label</th>\n",
              "    </tr>\n",
              "  </thead>\n",
              "  <tbody>\n",
              "    <tr>\n",
              "      <th>0</th>\n",
              "      <td>0</td>\n",
              "      <td>Says “132,000 ballots in Fulton County, Ga., h...</td>\n",
              "      <td>https://www.politifact.com/factchecks/2020/nov...</td>\n",
              "      <td>mber 10, 2020</td>\n",
              "      <td>Viral image</td>\n",
              "      <td>false</td>\n",
              "    </tr>\n",
              "    <tr>\n",
              "      <th>1</th>\n",
              "      <td>1</td>\n",
              "      <td>Says there are “indications of grossly imprope...</td>\n",
              "      <td>https://www.politifact.com/factchecks/2020/nov...</td>\n",
              "      <td>mber 10, 2020</td>\n",
              "      <td>Dan Bishop</td>\n",
              "      <td>false</td>\n",
              "    </tr>\n",
              "    <tr>\n",
              "      <th>2</th>\n",
              "      <td>2</td>\n",
              "      <td>A “system glitch” in Wisconsin that “swapped v...</td>\n",
              "      <td>https://www.politifact.com/factchecks/2020/nov...</td>\n",
              "      <td>mber 10, 2020</td>\n",
              "      <td>Eric Trump</td>\n",
              "      <td>false</td>\n",
              "    </tr>\n",
              "    <tr>\n",
              "      <th>3</th>\n",
              "      <td>3</td>\n",
              "      <td>Overnight, election workers “found” 140,000 ma...</td>\n",
              "      <td>https://www.politifact.com/factchecks/2020/nov...</td>\n",
              "      <td>mber 10, 2020</td>\n",
              "      <td>Facebook posts</td>\n",
              "      <td>false</td>\n",
              "    </tr>\n",
              "    <tr>\n",
              "      <th>4</th>\n",
              "      <td>4</td>\n",
              "      <td>Says CNN video shows “HAMMER / Scorecard Voter...</td>\n",
              "      <td>https://www.politifact.com/factchecks/2020/nov...</td>\n",
              "      <td>mber 10, 2020</td>\n",
              "      <td>Pamela Geller</td>\n",
              "      <td>pants-fire</td>\n",
              "    </tr>\n",
              "  </tbody>\n",
              "</table>\n",
              "</div>"
            ],
            "text/plain": [
              "   Unnamed: 0  ...       Label\n",
              "0           0  ...       false\n",
              "1           1  ...       false\n",
              "2           2  ...       false\n",
              "3           3  ...       false\n",
              "4           4  ...  pants-fire\n",
              "\n",
              "[5 rows x 6 columns]"
            ]
          },
          "metadata": {
            "tags": []
          },
          "execution_count": 209
        }
      ]
    },
    {
      "cell_type": "code",
      "metadata": {
        "id": "xHDOLui0wvqB"
      },
      "source": [
        "df_posts = df_posts.drop(df_posts.columns[[0]], axis=1)"
      ],
      "execution_count": null,
      "outputs": []
    },
    {
      "cell_type": "code",
      "metadata": {
        "id": "IN1rhEKKw7z8"
      },
      "source": [
        "df_posts = df_posts.rename(columns={'Statement': 'title'})"
      ],
      "execution_count": null,
      "outputs": []
    },
    {
      "cell_type": "code",
      "metadata": {
        "id": "X5NCaQMcxDR4",
        "colab": {
          "base_uri": "https://localhost:8080/",
          "height": 204
        },
        "outputId": "d19b53a3-0fc1-4c77-e1e6-6d8a044cb8c6"
      },
      "source": [
        "df_posts.head()"
      ],
      "execution_count": null,
      "outputs": [
        {
          "output_type": "execute_result",
          "data": {
            "text/html": [
              "<div>\n",
              "<style scoped>\n",
              "    .dataframe tbody tr th:only-of-type {\n",
              "        vertical-align: middle;\n",
              "    }\n",
              "\n",
              "    .dataframe tbody tr th {\n",
              "        vertical-align: top;\n",
              "    }\n",
              "\n",
              "    .dataframe thead th {\n",
              "        text-align: right;\n",
              "    }\n",
              "</style>\n",
              "<table border=\"1\" class=\"dataframe\">\n",
              "  <thead>\n",
              "    <tr style=\"text-align: right;\">\n",
              "      <th></th>\n",
              "      <th>title</th>\n",
              "      <th>Link</th>\n",
              "      <th>Date</th>\n",
              "      <th>Source</th>\n",
              "      <th>Label</th>\n",
              "    </tr>\n",
              "  </thead>\n",
              "  <tbody>\n",
              "    <tr>\n",
              "      <th>0</th>\n",
              "      <td>Says “132,000 ballots in Fulton County, Ga., h...</td>\n",
              "      <td>https://www.politifact.com/factchecks/2020/nov...</td>\n",
              "      <td>mber 10, 2020</td>\n",
              "      <td>Viral image</td>\n",
              "      <td>false</td>\n",
              "    </tr>\n",
              "    <tr>\n",
              "      <th>1</th>\n",
              "      <td>Says there are “indications of grossly imprope...</td>\n",
              "      <td>https://www.politifact.com/factchecks/2020/nov...</td>\n",
              "      <td>mber 10, 2020</td>\n",
              "      <td>Dan Bishop</td>\n",
              "      <td>false</td>\n",
              "    </tr>\n",
              "    <tr>\n",
              "      <th>2</th>\n",
              "      <td>A “system glitch” in Wisconsin that “swapped v...</td>\n",
              "      <td>https://www.politifact.com/factchecks/2020/nov...</td>\n",
              "      <td>mber 10, 2020</td>\n",
              "      <td>Eric Trump</td>\n",
              "      <td>false</td>\n",
              "    </tr>\n",
              "    <tr>\n",
              "      <th>3</th>\n",
              "      <td>Overnight, election workers “found” 140,000 ma...</td>\n",
              "      <td>https://www.politifact.com/factchecks/2020/nov...</td>\n",
              "      <td>mber 10, 2020</td>\n",
              "      <td>Facebook posts</td>\n",
              "      <td>false</td>\n",
              "    </tr>\n",
              "    <tr>\n",
              "      <th>4</th>\n",
              "      <td>Says CNN video shows “HAMMER / Scorecard Voter...</td>\n",
              "      <td>https://www.politifact.com/factchecks/2020/nov...</td>\n",
              "      <td>mber 10, 2020</td>\n",
              "      <td>Pamela Geller</td>\n",
              "      <td>pants-fire</td>\n",
              "    </tr>\n",
              "  </tbody>\n",
              "</table>\n",
              "</div>"
            ],
            "text/plain": [
              "                                               title  ...       Label\n",
              "0  Says “132,000 ballots in Fulton County, Ga., h...  ...       false\n",
              "1  Says there are “indications of grossly imprope...  ...       false\n",
              "2  A “system glitch” in Wisconsin that “swapped v...  ...       false\n",
              "3  Overnight, election workers “found” 140,000 ma...  ...       false\n",
              "4  Says CNN video shows “HAMMER / Scorecard Voter...  ...  pants-fire\n",
              "\n",
              "[5 rows x 5 columns]"
            ]
          },
          "metadata": {
            "tags": []
          },
          "execution_count": 212
        }
      ]
    },
    {
      "cell_type": "code",
      "metadata": {
        "id": "4XC5cK1rBS6W"
      },
      "source": [
        "df_main = pd.merge(df_final, df_posts, on='title', how='left')"
      ],
      "execution_count": null,
      "outputs": []
    },
    {
      "cell_type": "code",
      "metadata": {
        "id": "tF94aGSOBhNs",
        "colab": {
          "base_uri": "https://localhost:8080/"
        },
        "outputId": "39f02180-76c0-43e5-da02-78b110513a05"
      },
      "source": [
        "df_main.shape"
      ],
      "execution_count": null,
      "outputs": [
        {
          "output_type": "execute_result",
          "data": {
            "text/plain": [
              "(128, 7)"
            ]
          },
          "metadata": {
            "tags": []
          },
          "execution_count": 214
        }
      ]
    },
    {
      "cell_type": "code",
      "metadata": {
        "id": "4pIXqPBgBlgQ",
        "colab": {
          "base_uri": "https://localhost:8080/",
          "height": 306
        },
        "outputId": "9900ae60-1dd1-411e-bed4-13c555b0d7b8"
      },
      "source": [
        "df_main.head()"
      ],
      "execution_count": null,
      "outputs": [
        {
          "output_type": "execute_result",
          "data": {
            "text/html": [
              "<div>\n",
              "<style scoped>\n",
              "    .dataframe tbody tr th:only-of-type {\n",
              "        vertical-align: middle;\n",
              "    }\n",
              "\n",
              "    .dataframe tbody tr th {\n",
              "        vertical-align: top;\n",
              "    }\n",
              "\n",
              "    .dataframe thead th {\n",
              "        text-align: right;\n",
              "    }\n",
              "</style>\n",
              "<table border=\"1\" class=\"dataframe\">\n",
              "  <thead>\n",
              "    <tr style=\"text-align: right;\">\n",
              "      <th></th>\n",
              "      <th>title</th>\n",
              "      <th>title_count</th>\n",
              "      <th>veracity</th>\n",
              "      <th>Link</th>\n",
              "      <th>Date</th>\n",
              "      <th>Source</th>\n",
              "      <th>Label</th>\n",
              "    </tr>\n",
              "  </thead>\n",
              "  <tbody>\n",
              "    <tr>\n",
              "      <th>0</th>\n",
              "      <td>A “system glitch” in Wisconsin that “swapped v...</td>\n",
              "      <td>4.0</td>\n",
              "      <td>0</td>\n",
              "      <td>https://www.politifact.com/factchecks/2020/nov...</td>\n",
              "      <td>mber 10, 2020</td>\n",
              "      <td>Eric Trump</td>\n",
              "      <td>false</td>\n",
              "    </tr>\n",
              "    <tr>\n",
              "      <th>1</th>\n",
              "      <td>More mail-in ballots were counted in Lancaster...</td>\n",
              "      <td>1.0</td>\n",
              "      <td>0</td>\n",
              "      <td>https://www.politifact.com/factchecks/2020/nov...</td>\n",
              "      <td>ember 5, 2020</td>\n",
              "      <td>Viral image</td>\n",
              "      <td>false</td>\n",
              "    </tr>\n",
              "    <tr>\n",
              "      <th>2</th>\n",
              "      <td>Kamala Harris’ husband said, “I am married to ...</td>\n",
              "      <td>2.0</td>\n",
              "      <td>0</td>\n",
              "      <td>https://www.politifact.com/factchecks/2020/oct...</td>\n",
              "      <td>ober 22, 2020</td>\n",
              "      <td>Facebook posts</td>\n",
              "      <td>barely-true</td>\n",
              "    </tr>\n",
              "    <tr>\n",
              "      <th>3</th>\n",
              "      <td>“Wisconsin has more votes than people who are ...</td>\n",
              "      <td>2.0</td>\n",
              "      <td>0</td>\n",
              "      <td>https://www.politifact.com/factchecks/2020/nov...</td>\n",
              "      <td>ember 4, 2020</td>\n",
              "      <td>Tweets</td>\n",
              "      <td>pants-fire</td>\n",
              "    </tr>\n",
              "    <tr>\n",
              "      <th>4</th>\n",
              "      <td>“The NAACP has received credible information t...</td>\n",
              "      <td>1.0</td>\n",
              "      <td>0</td>\n",
              "      <td>https://www.politifact.com/factchecks/2020/nov...</td>\n",
              "      <td>ember 7, 2020</td>\n",
              "      <td>Facebook posts</td>\n",
              "      <td>false</td>\n",
              "    </tr>\n",
              "  </tbody>\n",
              "</table>\n",
              "</div>"
            ],
            "text/plain": [
              "                                               title  ...        Label\n",
              "0  A “system glitch” in Wisconsin that “swapped v...  ...        false\n",
              "1  More mail-in ballots were counted in Lancaster...  ...        false\n",
              "2  Kamala Harris’ husband said, “I am married to ...  ...  barely-true\n",
              "3  “Wisconsin has more votes than people who are ...  ...   pants-fire\n",
              "4  “The NAACP has received credible information t...  ...        false\n",
              "\n",
              "[5 rows x 7 columns]"
            ]
          },
          "metadata": {
            "tags": []
          },
          "execution_count": 215
        }
      ]
    },
    {
      "cell_type": "code",
      "metadata": {
        "id": "3GiTd81oB4hn"
      },
      "source": [
        "df_main.to_csv('Veracity_main.csv', index=False)"
      ],
      "execution_count": null,
      "outputs": []
    },
    {
      "cell_type": "code",
      "metadata": {
        "id": "itbxp0lR9cBM",
        "colab": {
          "base_uri": "https://localhost:8080/",
          "height": 442
        },
        "outputId": "e88daa31-4897-4cbc-9a91-1f2ae0a7110e"
      },
      "source": [
        "plt.figure(figsize=(8,6))\n",
        "p=sns.countplot(df_main[\"Label\"], color='blue')"
      ],
      "execution_count": null,
      "outputs": [
        {
          "output_type": "stream",
          "text": [
            "/usr/local/lib/python3.6/dist-packages/seaborn/_decorators.py:43: FutureWarning: Pass the following variable as a keyword arg: x. From version 0.12, the only valid positional argument will be `data`, and passing other arguments without an explicit keyword will result in an error or misinterpretation.\n",
            "  FutureWarning\n"
          ],
          "name": "stderr"
        },
        {
          "output_type": "display_data",
          "data": {
            "image/png": "[encoded data removed]",
            "text/plain": [
              "<Figure size 576x432 with 1 Axes>"
            ]
          },
          "metadata": {
            "tags": [],
            "needs_background": "light"
          }
        }
      ]
    },
    {
      "cell_type": "markdown",
      "metadata": {
        "id": "434aiWiNqrRn"
      },
      "source": [
        "###Convert Label to Binary values"
      ]
    },
    {
      "cell_type": "code",
      "metadata": {
        "id": "RKWFdzaf-Brg"
      },
      "source": [
        "df_main['Label'] = df_main['Label'].astype('category')\n",
        "# Assigning numerical values and storing in another column\n",
        "df_main['Label_cat'] = df_main['Label'].cat.codes\n"
      ],
      "execution_count": null,
      "outputs": []
    },
    {
      "cell_type": "code",
      "metadata": {
        "id": "RePga15aM8pQ",
        "colab": {
          "base_uri": "https://localhost:8080/"
        },
        "outputId": "2383c77b-cd24-4a8b-c549-e42e5a26810a"
      },
      "source": [
        "df_main['Label_cat']"
      ],
      "execution_count": null,
      "outputs": [
        {
          "output_type": "execute_result",
          "data": {
            "text/plain": [
              "0      1\n",
              "1      1\n",
              "2      0\n",
              "3      5\n",
              "4      1\n",
              "      ..\n",
              "123    1\n",
              "124    1\n",
              "125    1\n",
              "126    3\n",
              "127    5\n",
              "Name: Label_cat, Length: 128, dtype: int8"
            ]
          },
          "metadata": {
            "tags": []
          },
          "execution_count": 220
        }
      ]
    },
    {
      "cell_type": "code",
      "metadata": {
        "id": "kOY-g3diKF1k",
        "colab": {
          "base_uri": "https://localhost:8080/"
        },
        "outputId": "cee95d6f-1aa9-4da3-ff78-9a9901092807"
      },
      "source": [
        "cat_to_nums = {\"Label\":     {\"true\":1, \"false\":0, \"barely-true\": 0, \"half-true\": 0, \"mostly-true\": 1,\"pants-fire\": 0} }\n",
        "df_main.replace(cat_to_nums, inplace=True)\n",
        "df_main['Label']\n"
      ],
      "execution_count": null,
      "outputs": [
        {
          "output_type": "execute_result",
          "data": {
            "text/plain": [
              "0      0\n",
              "1      0\n",
              "2      0\n",
              "3      0\n",
              "4      0\n",
              "      ..\n",
              "123    0\n",
              "124    0\n",
              "125    0\n",
              "126    0\n",
              "127    0\n",
              "Name: Label, Length: 128, dtype: object"
            ]
          },
          "metadata": {
            "tags": []
          },
          "execution_count": 221
        }
      ]
    },
    {
      "cell_type": "code",
      "metadata": {
        "id": "XcAxATPPXM9x",
        "colab": {
          "base_uri": "https://localhost:8080/",
          "height": 374
        },
        "outputId": "1c7d62e7-4d17-41e4-8d10-37fff3f723f1"
      },
      "source": [
        "df_main.head()"
      ],
      "execution_count": null,
      "outputs": [
        {
          "output_type": "execute_result",
          "data": {
            "text/html": [
              "<div>\n",
              "<style scoped>\n",
              "    .dataframe tbody tr th:only-of-type {\n",
              "        vertical-align: middle;\n",
              "    }\n",
              "\n",
              "    .dataframe tbody tr th {\n",
              "        vertical-align: top;\n",
              "    }\n",
              "\n",
              "    .dataframe thead th {\n",
              "        text-align: right;\n",
              "    }\n",
              "</style>\n",
              "<table border=\"1\" class=\"dataframe\">\n",
              "  <thead>\n",
              "    <tr style=\"text-align: right;\">\n",
              "      <th></th>\n",
              "      <th>title</th>\n",
              "      <th>title_count</th>\n",
              "      <th>veracity</th>\n",
              "      <th>Link</th>\n",
              "      <th>Date</th>\n",
              "      <th>Source</th>\n",
              "      <th>Label</th>\n",
              "      <th>Label_cat</th>\n",
              "    </tr>\n",
              "  </thead>\n",
              "  <tbody>\n",
              "    <tr>\n",
              "      <th>0</th>\n",
              "      <td>A “system glitch” in Wisconsin that “swapped v...</td>\n",
              "      <td>4.0</td>\n",
              "      <td>0</td>\n",
              "      <td>https://www.politifact.com/factchecks/2020/nov...</td>\n",
              "      <td>mber 10, 2020</td>\n",
              "      <td>Eric Trump</td>\n",
              "      <td>0</td>\n",
              "      <td>1</td>\n",
              "    </tr>\n",
              "    <tr>\n",
              "      <th>1</th>\n",
              "      <td>More mail-in ballots were counted in Lancaster...</td>\n",
              "      <td>1.0</td>\n",
              "      <td>0</td>\n",
              "      <td>https://www.politifact.com/factchecks/2020/nov...</td>\n",
              "      <td>ember 5, 2020</td>\n",
              "      <td>Viral image</td>\n",
              "      <td>0</td>\n",
              "      <td>1</td>\n",
              "    </tr>\n",
              "    <tr>\n",
              "      <th>2</th>\n",
              "      <td>Kamala Harris’ husband said, “I am married to ...</td>\n",
              "      <td>2.0</td>\n",
              "      <td>0</td>\n",
              "      <td>https://www.politifact.com/factchecks/2020/oct...</td>\n",
              "      <td>ober 22, 2020</td>\n",
              "      <td>Facebook posts</td>\n",
              "      <td>0</td>\n",
              "      <td>0</td>\n",
              "    </tr>\n",
              "    <tr>\n",
              "      <th>3</th>\n",
              "      <td>“Wisconsin has more votes than people who are ...</td>\n",
              "      <td>2.0</td>\n",
              "      <td>0</td>\n",
              "      <td>https://www.politifact.com/factchecks/2020/nov...</td>\n",
              "      <td>ember 4, 2020</td>\n",
              "      <td>Tweets</td>\n",
              "      <td>0</td>\n",
              "      <td>5</td>\n",
              "    </tr>\n",
              "    <tr>\n",
              "      <th>4</th>\n",
              "      <td>“The NAACP has received credible information t...</td>\n",
              "      <td>1.0</td>\n",
              "      <td>0</td>\n",
              "      <td>https://www.politifact.com/factchecks/2020/nov...</td>\n",
              "      <td>ember 7, 2020</td>\n",
              "      <td>Facebook posts</td>\n",
              "      <td>0</td>\n",
              "      <td>1</td>\n",
              "    </tr>\n",
              "  </tbody>\n",
              "</table>\n",
              "</div>"
            ],
            "text/plain": [
              "                                               title  ...  Label_cat\n",
              "0  A “system glitch” in Wisconsin that “swapped v...  ...          1\n",
              "1  More mail-in ballots were counted in Lancaster...  ...          1\n",
              "2  Kamala Harris’ husband said, “I am married to ...  ...          0\n",
              "3  “Wisconsin has more votes than people who are ...  ...          5\n",
              "4  “The NAACP has received credible information t...  ...          1\n",
              "\n",
              "[5 rows x 8 columns]"
            ]
          },
          "metadata": {
            "tags": []
          },
          "execution_count": 222
        }
      ]
    },
    {
      "cell_type": "markdown",
      "metadata": {
        "id": "qyi57CnL7Tzm"
      },
      "source": [
        "#Data Cleaning and Text Preprocessing#"
      ]
    },
    {
      "cell_type": "markdown",
      "metadata": {
        "id": "3CPrVmrgsZF-"
      },
      "source": [
        "As a part of cleaning, we will perform below steps:\n",
        "1. Remove Special characters\n",
        "2. Convert text to lower case\n",
        "3. Tokenization\n",
        "4. Removing stop words\n",
        "5. Lemmetization\n",
        "6. Stemming"
      ]
    },
    {
      "cell_type": "code",
      "metadata": {
        "id": "IpcQw_gR7SN8"
      },
      "source": [
        "import re\n",
        "\n",
        "def cleaning(raw_text):\n",
        "    import nltk\n",
        "    \n",
        "    # 1. Remove non-letters/Special Characters\n",
        "    text = re.sub(\"[^a-zA-Z]\", \" \", str(raw_text))\n",
        "    \n",
        "    # 2. Convert to lower case.\n",
        "    text =  text.lower()\n",
        "    \n",
        "    # 3. Tokenize.\n",
        "    text_words = nltk.word_tokenize(text)\n",
        "    \n",
        "    # 4. Convert the stopwords list to \"set\" data type.\n",
        "    stops = set(nltk.corpus.stopwords.words(\"english\"))\n",
        "    \n",
        "    # 5. Remove stop words. \n",
        "    words = [w for w in  text_words  if not w in stops]\n",
        "    \n",
        "    # 6. Lemmentize \n",
        "    wordnet_lem = [ WordNetLemmatizer().lemmatize(w) for w in words ]\n",
        "    \n",
        "    # 7. Stemming\n",
        "    stems = [nltk.stem.SnowballStemmer('english').stem(w) for w in wordnet_lem ]\n",
        "    \n",
        "    # 8. Join the stemmed words back into one string separated by space, and return the result.\n",
        "    return \" \".join(stems)"
      ],
      "execution_count": null,
      "outputs": []
    },
    {
      "cell_type": "code",
      "metadata": {
        "id": "iJj0AgUe8cOQ",
        "colab": {
          "base_uri": "https://localhost:8080/"
        },
        "outputId": "1c0ef000-92bf-40a7-a29c-38d29cc8127c"
      },
      "source": [
        "import time\n",
        "import nltk\n",
        "nltk.download('punkt')\n",
        "nltk.download('wordnet')\n",
        "# clean training and test data \n",
        "# create new column \"tokenized\"\n",
        "t1 = time.time()\n",
        "\n",
        "# Add the processed data to the original data. \n",
        "# Perhaps using apply function would be more elegant and concise than using for loop\n",
        "df_main['clean_text'] = df_main[\"title\"].apply(cleaning) \n",
        "\n",
        "t2 = time.time()\n",
        "print(\"\\nTime to clean, tokenize and stem train data: \\n\", len(df_main), \"news:\", (t2-t1)/60, \"min\")\n",
        "\n"
      ],
      "execution_count": null,
      "outputs": [
        {
          "output_type": "stream",
          "text": [
            "[nltk_data] Downloading package punkt to /root/nltk_data...\n",
            "[nltk_data]   Package punkt is already up-to-date!\n",
            "[nltk_data] Downloading package wordnet to /root/nltk_data...\n",
            "[nltk_data]   Package wordnet is already up-to-date!\n",
            "\n",
            "Time to clean, tokenize and stem train data: \n",
            " 128 news: 0.0013245979944864908 min\n"
          ],
          "name": "stdout"
        }
      ]
    },
    {
      "cell_type": "markdown",
      "metadata": {
        "id": "_twOyqgh1qrn"
      },
      "source": [
        "#Data Visualization#"
      ]
    },
    {
      "cell_type": "code",
      "metadata": {
        "id": "0BP1ivVNJtLH",
        "colab": {
          "base_uri": "https://localhost:8080/",
          "height": 527
        },
        "outputId": "7b1fdb7f-9d2d-4169-a380-6073954a589e"
      },
      "source": [
        "# Final data present in datset after data preprocessing, and cleaning\n",
        "df_main.head()"
      ],
      "execution_count": null,
      "outputs": [
        {
          "output_type": "execute_result",
          "data": {
            "text/html": [
              "<div>\n",
              "<style scoped>\n",
              "    .dataframe tbody tr th:only-of-type {\n",
              "        vertical-align: middle;\n",
              "    }\n",
              "\n",
              "    .dataframe tbody tr th {\n",
              "        vertical-align: top;\n",
              "    }\n",
              "\n",
              "    .dataframe thead th {\n",
              "        text-align: right;\n",
              "    }\n",
              "</style>\n",
              "<table border=\"1\" class=\"dataframe\">\n",
              "  <thead>\n",
              "    <tr style=\"text-align: right;\">\n",
              "      <th></th>\n",
              "      <th>title</th>\n",
              "      <th>title_count</th>\n",
              "      <th>veracity</th>\n",
              "      <th>Link</th>\n",
              "      <th>Date</th>\n",
              "      <th>Source</th>\n",
              "      <th>Label</th>\n",
              "      <th>Label_cat</th>\n",
              "      <th>clean_text</th>\n",
              "    </tr>\n",
              "  </thead>\n",
              "  <tbody>\n",
              "    <tr>\n",
              "      <th>0</th>\n",
              "      <td>A “system glitch” in Wisconsin that “swapped v...</td>\n",
              "      <td>4.0</td>\n",
              "      <td>0</td>\n",
              "      <td>https://www.politifact.com/factchecks/2020/nov...</td>\n",
              "      <td>mber 10, 2020</td>\n",
              "      <td>Eric Trump</td>\n",
              "      <td>0</td>\n",
              "      <td>1</td>\n",
              "      <td>system glitch wisconsin swap vote biden trump ...</td>\n",
              "    </tr>\n",
              "    <tr>\n",
              "      <th>1</th>\n",
              "      <td>More mail-in ballots were counted in Lancaster...</td>\n",
              "      <td>1.0</td>\n",
              "      <td>0</td>\n",
              "      <td>https://www.politifact.com/factchecks/2020/nov...</td>\n",
              "      <td>ember 5, 2020</td>\n",
              "      <td>Viral image</td>\n",
              "      <td>0</td>\n",
              "      <td>1</td>\n",
              "      <td>mail ballot count lancast counti pa return</td>\n",
              "    </tr>\n",
              "    <tr>\n",
              "      <th>2</th>\n",
              "      <td>Kamala Harris’ husband said, “I am married to ...</td>\n",
              "      <td>2.0</td>\n",
              "      <td>0</td>\n",
              "      <td>https://www.politifact.com/factchecks/2020/oct...</td>\n",
              "      <td>ober 22, 2020</td>\n",
              "      <td>Facebook posts</td>\n",
              "      <td>0</td>\n",
              "      <td>0</td>\n",
              "      <td>kamala harri husband said marri next presid un...</td>\n",
              "    </tr>\n",
              "    <tr>\n",
              "      <th>3</th>\n",
              "      <td>“Wisconsin has more votes than people who are ...</td>\n",
              "      <td>2.0</td>\n",
              "      <td>0</td>\n",
              "      <td>https://www.politifact.com/factchecks/2020/nov...</td>\n",
              "      <td>ember 4, 2020</td>\n",
              "      <td>Tweets</td>\n",
              "      <td>0</td>\n",
              "      <td>5</td>\n",
              "      <td>wisconsin vote peopl regist vote direct evid f...</td>\n",
              "    </tr>\n",
              "    <tr>\n",
              "      <th>4</th>\n",
              "      <td>“The NAACP has received credible information t...</td>\n",
              "      <td>1.0</td>\n",
              "      <td>0</td>\n",
              "      <td>https://www.politifact.com/factchecks/2020/nov...</td>\n",
              "      <td>ember 7, 2020</td>\n",
              "      <td>Facebook posts</td>\n",
              "      <td>0</td>\n",
              "      <td>1</td>\n",
              "      <td>naacp receiv credibl inform white nationalist ...</td>\n",
              "    </tr>\n",
              "  </tbody>\n",
              "</table>\n",
              "</div>"
            ],
            "text/plain": [
              "                                               title  ...                                         clean_text\n",
              "0  A “system glitch” in Wisconsin that “swapped v...  ...  system glitch wisconsin swap vote biden trump ...\n",
              "1  More mail-in ballots were counted in Lancaster...  ...         mail ballot count lancast counti pa return\n",
              "2  Kamala Harris’ husband said, “I am married to ...  ...  kamala harri husband said marri next presid un...\n",
              "3  “Wisconsin has more votes than people who are ...  ...  wisconsin vote peopl regist vote direct evid f...\n",
              "4  “The NAACP has received credible information t...  ...  naacp receiv credibl inform white nationalist ...\n",
              "\n",
              "[5 rows x 9 columns]"
            ]
          },
          "metadata": {
            "tags": []
          },
          "execution_count": 225
        }
      ]
    },
    {
      "cell_type": "code",
      "metadata": {
        "id": "-JjFzJP-Nbwy",
        "colab": {
          "base_uri": "https://localhost:8080/",
          "height": 575
        },
        "outputId": "e5f7edbf-eab2-4e26-ff47-21146d4a8e0e"
      },
      "source": [
        "#Word cloud of Train dataset\n",
        "\n",
        "from wordcloud import WordCloud, STOPWORDS\n",
        "def wcloud(data,backgroundcolor = 'white', width = 800, height = 600):\n",
        "    word_cloud = WordCloud(stopwords = STOPWORDS, background_color = backgroundcolor,\n",
        "                         width = width, height = height).generate(data)\n",
        "    plt.figure(figsize = (15, 10))\n",
        "    plt.imshow(word_cloud)\n",
        "    plt.axis(\"off\")\n",
        "    plt.show()\n",
        "    \n",
        "wcloud(' '.join(df_main['clean_text']))\n"
      ],
      "execution_count": null,
      "outputs": [
        {
          "output_type": "display_data",
          "data": {
            "image/png": "[encoded data removed]",
            "text/plain": [
              "<Figure size 1080x720 with 1 Axes>"
            ]
          },
          "metadata": {
            "tags": [],
            "needs_background": "light"
          }
        }
      ]
    },
    {
      "cell_type": "markdown",
      "metadata": {
        "id": "Jf8YPuS_AddD"
      },
      "source": [
        "As it can be seen above the word 'vote', 'ballot', 'count' and 'elect', 'biden' occured most frequently.\n",
        "\n",
        "As the latest news from Politico website was pulled it presented most posts related to th US Presendential Election"
      ]
    },
    {
      "cell_type": "markdown",
      "metadata": {
        "id": "az0XoEccTpM5"
      },
      "source": [
        "#Factor Implementation#"
      ]
    },
    {
      "cell_type": "code",
      "metadata": {
        "id": "6268Oj5OBFuH",
        "colab": {
          "base_uri": "https://localhost:8080/"
        },
        "outputId": "8bdc43b6-5292-4e46-ff19-73e9d56134e1"
      },
      "source": [
        "falseNegative = 0\n",
        "falsePositive = 0\n",
        "falseMoreThanOne = 0\n",
        "trueNegative = 0\n",
        "truePositive = 0\n",
        "trueMoreThanOne = 0\n",
        "for index, row in df_main.iterrows():\n",
        "    if (row.Label == 0):\n",
        "        if (row.veracity == 1):\n",
        "            trueNegative += 1\n",
        "        else:\n",
        "            falseNegative += 1\n",
        "    elif (row.Label == 1):\n",
        "        if (row.veracity == 1):\n",
        "            truePositive += 1\n",
        "        else:\n",
        "            falsePositive += 1\n",
        "    elif (row.title_count > 1):\n",
        "        if (row.veracity == 1):\n",
        "            trueMoreThanOne += 1\n",
        "        else:\n",
        "            falseMoreThanOne += 1\n",
        "\n",
        "print(\"trueNegative=\", trueNegative)\n",
        "print(\"falseNegative=\", falseNegative)\n",
        "print(\"truePositive=\", truePositive)\n",
        "print(\"falsePositive=\", falsePositive)\n",
        "print(\"trueMoreThanOne=\", trueMoreThanOne)\n",
        "print(\"fakeMoreThanOne=\", falseMoreThanOne)\n",
        "\n"
      ],
      "execution_count": null,
      "outputs": [
        {
          "output_type": "stream",
          "text": [
            "trueNegative= 45\n",
            "falseNegative= 76\n",
            "truePositive= 3\n",
            "falsePositive= 2\n",
            "trueMoreThanOne= 2\n",
            "fakeMoreThanOne= 0\n"
          ],
          "name": "stdout"
        }
      ]
    },
    {
      "cell_type": "code",
      "metadata": {
        "id": "Wkdhfhg5Ielo"
      },
      "source": [
        "col_names = ['title_count', 'Label_cat']\n",
        "X = df_main[col_names]\n",
        "Y = df_main['veracity']"
      ],
      "execution_count": null,
      "outputs": []
    },
    {
      "cell_type": "code",
      "metadata": {
        "id": "I-paXlguIuf_"
      },
      "source": [
        "\n",
        "X_train, X_test, Y_train, Y_test = \\\n",
        "    train_test_split(X, Y, test_size=.2)"
      ],
      "execution_count": null,
      "outputs": []
    },
    {
      "cell_type": "code",
      "metadata": {
        "id": "HCIyuw4aJbiX"
      },
      "source": [
        "from sklearn.linear_model import LogisticRegression\n",
        "logmodel = LogisticRegression()\n",
        "logmodel.fit(X_train,Y_train)\n",
        "predictions = logmodel.predict(X_test)"
      ],
      "execution_count": null,
      "outputs": []
    },
    {
      "cell_type": "code",
      "metadata": {
        "id": "qz4C3jlTwG-U",
        "colab": {
          "base_uri": "https://localhost:8080/"
        },
        "outputId": "2a2fcb69-637a-4a83-e737-6a651283aef9"
      },
      "source": [
        "from sklearn.metrics import classification_report\n",
        "print(classification_report(Y_test,predictions))"
      ],
      "execution_count": null,
      "outputs": [
        {
          "output_type": "stream",
          "text": [
            "              precision    recall  f1-score   support\n",
            "\n",
            "           0       0.73      1.00      0.84        16\n",
            "           1       1.00      0.40      0.57        10\n",
            "\n",
            "    accuracy                           0.77        26\n",
            "   macro avg       0.86      0.70      0.71        26\n",
            "weighted avg       0.83      0.77      0.74        26\n",
            "\n"
          ],
          "name": "stdout"
        }
      ]
    },
    {
      "cell_type": "markdown",
      "metadata": {
        "id": "0U8VJg92mPcb"
      },
      "source": [
        "Using Naive Bayes Classifier"
      ]
    },
    {
      "cell_type": "code",
      "metadata": {
        "id": "wdmoa9NdeJVY"
      },
      "source": [
        "from sklearn.naive_bayes import GaussianNB"
      ],
      "execution_count": null,
      "outputs": []
    },
    {
      "cell_type": "code",
      "metadata": {
        "id": "zgVQSiu1kz8N"
      },
      "source": [
        "model = GaussianNB()"
      ],
      "execution_count": null,
      "outputs": []
    },
    {
      "cell_type": "code",
      "metadata": {
        "id": "Ce3VnRQCk3lD",
        "colab": {
          "base_uri": "https://localhost:8080/"
        },
        "outputId": "f2aa7da0-056e-4854-b129-ed41c2ffe61d"
      },
      "source": [
        "model.fit(X_train,Y_train)"
      ],
      "execution_count": null,
      "outputs": [
        {
          "output_type": "execute_result",
          "data": {
            "text/plain": [
              "GaussianNB(priors=None, var_smoothing=1e-09)"
            ]
          },
          "metadata": {
            "tags": []
          },
          "execution_count": 234
        }
      ]
    },
    {
      "cell_type": "code",
      "metadata": {
        "id": "CeYVclr0lC2G"
      },
      "source": [
        "pred = model.predict(X_test)"
      ],
      "execution_count": null,
      "outputs": []
    },
    {
      "cell_type": "code",
      "metadata": {
        "id": "J6W6kC0JlakR",
        "colab": {
          "base_uri": "https://localhost:8080/"
        },
        "outputId": "d65ba8b0-dacc-434a-c751-983ce13c36d8"
      },
      "source": [
        "from sklearn.metrics import classification_report, confusion_matrix, accuracy_score\n",
        "print(\"Confusion Matrix: \\n\")\n",
        "print(confusion_matrix(Y_test,pred))\n",
        "print(\"Classification Report:\\n\")\n",
        "print(classification_report(Y_test,pred))\n",
        "print('Accuracy score for Naive Bayes:\\n', accuracy_score(Y_test, pred))\n"
      ],
      "execution_count": null,
      "outputs": [
        {
          "output_type": "stream",
          "text": [
            "Confusion Matrix: \n",
            "\n",
            "[[16  0]\n",
            " [ 5  5]]\n",
            "Classification Report:\n",
            "\n",
            "              precision    recall  f1-score   support\n",
            "\n",
            "           0       0.76      1.00      0.86        16\n",
            "           1       1.00      0.50      0.67        10\n",
            "\n",
            "    accuracy                           0.81        26\n",
            "   macro avg       0.88      0.75      0.77        26\n",
            "weighted avg       0.85      0.81      0.79        26\n",
            "\n",
            "Accuracy score for Naive Bayes:\n",
            " 0.8076923076923077\n"
          ],
          "name": "stdout"
        }
      ]
    },
    {
      "cell_type": "markdown",
      "metadata": {
        "id": "kt6J-69YX_u_"
      },
      "source": [
        "# Research and Findings\n",
        "\n",
        "To determine the credibility of a news we need to find the news source. A news with credible source will help differentiate it from fake news and real news.\n",
        "\n",
        "To work on the factor Context veracity, we need to provdie resources for the news. Follwing are the different articles and research papers that helped understanding this concept.\n",
        "\n",
        "https://www.kaggle.com/ruchi798/how-do-you-recognize-fake-news\n",
        "\n",
        "https://towardsdatascience.com/identifying-fake-news-the-liar-dataset-713eca8af6ac\n",
        "\n",
        " https://www-sciencedirect-com.libaccess.sjlibrary.org/science/article/pii/S1389041719301020\n",
        "\n"
      ]
    },
    {
      "cell_type": "markdown",
      "metadata": {
        "id": "KJHOYvLFZk1s"
      },
      "source": [
        "#References\n",
        "\n",
        "https://www.politifact.com\n",
        "\n",
        "https://towardsdatascience.com/logistic-regression-a-simplified-approach-using-python-c4bc81a87c31\n",
        "\n",
        "\n",
        "https://gist.githubusercontent.com/techykajal/dd7f3974f4a4ad3203dfa858abc73cd7/raw/2c366480f1624f96cb2299338500b84fb905c978/Scraping.py\n",
        "\n",
        "https://towardsdatascience.com/scraping-1000s-of-news-articles-using-10-simple-steps-d57636a49755\n",
        "\n",
        "https://towardsdatascience.com/comparing-pandas-dataframes-to-one-another-c26853d7dda7\n",
        "\n",
        "https://stackoverflow.com/questions/12497402/python-pandas-remove-duplicates-by-columns-a-keeping-the-row-with-the-highest\n",
        "\n",
        "https://stackoverflow.com/questions/12497402/python-pandas-remove-duplicates-by-columns-a-keeping-the-row-with-the-highest\n",
        "\n",
        "\n"
      ]
    }
  ]
}